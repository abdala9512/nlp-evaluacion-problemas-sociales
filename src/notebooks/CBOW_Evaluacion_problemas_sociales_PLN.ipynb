{
  "nbformat": 4,
  "nbformat_minor": 0,
  "metadata": {
    "colab": {
      "provenance": [],
      "include_colab_link": true
    },
    "kernelspec": {
      "name": "python3",
      "display_name": "Python 3"
    },
    "language_info": {
      "name": "python"
    }
  },
  "cells": [
    {
      "cell_type": "markdown",
      "metadata": {
        "id": "view-in-github",
        "colab_type": "text"
      },
      "source": [
        "<a href=\"https://colab.research.google.com/github/abdala9512/nlp-evaluacion-problemas-sociales/blob/main/src/notebooks/CBOW_Evaluacion_problemas_sociales_PLN.ipynb\" target=\"_parent\"><img src=\"https://colab.research.google.com/assets/colab-badge.svg\" alt=\"Open In Colab\"/></a>"
      ]
    },
    {
      "cell_type": "markdown",
      "source": [
        "# **CBOW_Proyecto NLP - Evaluacion de problemas solciales**\n",
        "\n",
        "---\n",
        "\n",
        "\n",
        "\n",
        "---\n",
        "\n",
        "\n",
        "\n",
        "<img src=\"https://upload.wikimedia.org/wikipedia/commons/6/6c/Javeriana.svg\">\n",
        "\n",
        "---\n",
        "\n",
        "\n",
        "\n",
        "---\n"
      ],
      "metadata": {
        "id": "kJgCpE9edATI"
      }
    },
    {
      "cell_type": "markdown",
      "source": [
        "##Integrantes:\n",
        "\n",
        "*   **Laura Vanessa Peñaranda**\n",
        "* **Leonardo Neira**\n",
        "* **Omar balcero**\n",
        "* **Miguel Arquez Abdala**\n",
        "\n",
        "---\n",
        "\n",
        "\n",
        "\n",
        "---"
      ],
      "metadata": {
        "id": "y54OUduDdOBU"
      }
    },
    {
      "cell_type": "markdown",
      "source": [
        "##**Analisis Exploratorio**"
      ],
      "metadata": {
        "id": "HYViT5ul8tno"
      }
    },
    {
      "cell_type": "markdown",
      "source": [
        "###Import Librerias"
      ],
      "metadata": {
        "id": "1Htg8t9odoyM"
      }
    },
    {
      "cell_type": "code",
      "source": [
        "!pip install Unidecode"
      ],
      "metadata": {
        "colab": {
          "base_uri": "https://localhost:8080/"
        },
        "id": "jeVpCpBc4Njt",
        "outputId": "f8dc2270-9632-46b7-9654-80c7a81c315b"
      },
      "execution_count": 1,
      "outputs": [
        {
          "output_type": "stream",
          "name": "stdout",
          "text": [
            "Looking in indexes: https://pypi.org/simple, https://us-python.pkg.dev/colab-wheels/public/simple/\n",
            "Collecting Unidecode\n",
            "  Downloading Unidecode-1.3.6-py3-none-any.whl (235 kB)\n",
            "\u001b[K     |████████████████████████████████| 235 kB 6.4 MB/s \n",
            "\u001b[?25hInstalling collected packages: Unidecode\n",
            "Successfully installed Unidecode-1.3.6\n"
          ]
        }
      ]
    },
    {
      "cell_type": "code",
      "source": [
        "import pandas as pd\n",
        "import numpy as np\n",
        "from google.colab import drive\n",
        "from scipy.stats import kurtosis\n",
        "from scipy.stats import skew\n",
        "import matplotlib.pyplot as plt\n",
        "import nltk\n",
        "import pdb\n",
        "import re\n",
        "import string\n",
        "import unidecode\n",
        "from unidecode import unidecode\n",
        "from nltk.corpus import stopwords\n",
        "from nltk.stem import SnowballStemmer\n",
        "from nltk.tokenize import TweetTokenizer\n",
        "from nltk.stem import PorterStemmer\n",
        "nltk.download('stopwords')\n",
        "import wordcloud as wc\n",
        "import matplotlib.pyplot as plt"
      ],
      "metadata": {
        "id": "YibfxAjkdKI-",
        "colab": {
          "base_uri": "https://localhost:8080/"
        },
        "outputId": "267482ec-f0ba-4469-eaaf-1dd67602c221"
      },
      "execution_count": 2,
      "outputs": [
        {
          "output_type": "stream",
          "name": "stderr",
          "text": [
            "[nltk_data] Downloading package stopwords to /root/nltk_data...\n",
            "[nltk_data]   Unzipping corpora/stopwords.zip.\n"
          ]
        }
      ]
    },
    {
      "cell_type": "markdown",
      "source": [
        "### Instalacion de complementos"
      ],
      "metadata": {
        "id": "TCz8-fPOduPu"
      }
    },
    {
      "cell_type": "markdown",
      "source": [
        "### Montar Drive"
      ],
      "metadata": {
        "id": "jKZErsS6eFNi"
      }
    },
    {
      "cell_type": "code",
      "source": [
        "drive.mount('/content/drive')"
      ],
      "metadata": {
        "colab": {
          "base_uri": "https://localhost:8080/"
        },
        "id": "z-_NDjsteF0B",
        "outputId": "ea439226-5b25-4974-decc-96b2db6b425b"
      },
      "execution_count": 4,
      "outputs": [
        {
          "output_type": "stream",
          "name": "stdout",
          "text": [
            "Mounted at /content/drive\n"
          ]
        }
      ]
    },
    {
      "cell_type": "markdown",
      "source": [
        "### Cargue de datos"
      ],
      "metadata": {
        "id": "40jrLgCDe7g2"
      }
    },
    {
      "cell_type": "code",
      "source": [
        "df_nlp=pd.read_csv(\"/content/drive/MyDrive/Maestria IA/PLN/Proyecto Final PLN/data/ArchivoProblemas.csv\",delimiter=\";\",header=None,on_bad_lines='skip')"
      ],
      "metadata": {
        "id": "OOLnQEM8eVJO"
      },
      "execution_count": 49,
      "outputs": []
    },
    {
      "cell_type": "code",
      "source": [
        "df_nlp.head(10)"
      ],
      "metadata": {
        "colab": {
          "base_uri": "https://localhost:8080/",
          "height": 511
        },
        "id": "DiTTGSPyhV2A",
        "outputId": "59a962d9-cc93-464a-89e5-8828fdf9d198"
      },
      "execution_count": 50,
      "outputs": [
        {
          "output_type": "execute_result",
          "data": {
            "text/plain": [
              "         0        1  \\\n",
              "0  Problem   3655.0   \n",
              "1   Effect  18181.0   \n",
              "2   Effect  18182.0   \n",
              "3   Effect  18183.0   \n",
              "4   Effect  18626.0   \n",
              "5    Cause  14455.0   \n",
              "6    Cause  14879.0   \n",
              "7  Problem    488.0   \n",
              "8   Effect   1849.0   \n",
              "9   Effect   1850.0   \n",
              "\n",
              "                                                                                                                                                                                                                2  \n",
              "0  Deficiencia en las reglas, protocolos y procesos de la corresponsabilidad entre la Nación y demás entes territoriales del país en la implementación de la política para víctimas y demás actores del conflicto  \n",
              "1                                                                                                                                                 Descoordinación institucional en el tema de atención a víctimas  \n",
              "2                                                                                                   Ineficiencia e ineficacia en la atención a víctimas del conflicto armado por parte de los entes territoriales  \n",
              "3                                                                                                                                                                                                Inequidad social  \n",
              "4                                                                                                                         Baja capacidad de las entidades territoriales implementación de la política de víctimas  \n",
              "5                                                                   Baja coordinación entre la Nación y las entidades territoriales en materia de atención a la población víctimas y actores del conflicto armado  \n",
              "6                                                                                                                                                  Sistema de corresponsabilidad es un tema reciente para el país  \n",
              "7                                                                                                 ESCASAS INICIATIVAS PRODUCTIVAS PARA INCENTIVAR A FAMILIAS VICTMAS DEL CONFLICTO PARA LA GENERACION DE INGRESOS  \n",
              "8                                                                                                                             INCREMENTO DE LA POBLACION EN CONDICIONES DE DESPLAZAMIENTO EN LOS CENTROS POBLADOS  \n",
              "9                                                                                                                                                         BAJOS INGRESOS PARA LAS FAMILIAS VICTIMAS DEL CONFLICTO  "
            ],
            "text/html": [
              "\n",
              "  <div id=\"df-3a7adac5-7aec-4da9-84b6-d6236ad74a6c\">\n",
              "    <div class=\"colab-df-container\">\n",
              "      <div>\n",
              "<style scoped>\n",
              "    .dataframe tbody tr th:only-of-type {\n",
              "        vertical-align: middle;\n",
              "    }\n",
              "\n",
              "    .dataframe tbody tr th {\n",
              "        vertical-align: top;\n",
              "    }\n",
              "\n",
              "    .dataframe thead th {\n",
              "        text-align: right;\n",
              "    }\n",
              "</style>\n",
              "<table border=\"1\" class=\"dataframe\">\n",
              "  <thead>\n",
              "    <tr style=\"text-align: right;\">\n",
              "      <th></th>\n",
              "      <th>0</th>\n",
              "      <th>1</th>\n",
              "      <th>2</th>\n",
              "    </tr>\n",
              "  </thead>\n",
              "  <tbody>\n",
              "    <tr>\n",
              "      <th>0</th>\n",
              "      <td>Problem</td>\n",
              "      <td>3655.0</td>\n",
              "      <td>Deficiencia en las reglas, protocolos y procesos de la corresponsabilidad entre la Nación y demás entes territoriales del país en la implementación de la política para víctimas y demás actores del conflicto</td>\n",
              "    </tr>\n",
              "    <tr>\n",
              "      <th>1</th>\n",
              "      <td>Effect</td>\n",
              "      <td>18181.0</td>\n",
              "      <td>Descoordinación institucional en el tema de atención a víctimas</td>\n",
              "    </tr>\n",
              "    <tr>\n",
              "      <th>2</th>\n",
              "      <td>Effect</td>\n",
              "      <td>18182.0</td>\n",
              "      <td>Ineficiencia e ineficacia en la atención a víctimas del conflicto armado por parte de los entes territoriales</td>\n",
              "    </tr>\n",
              "    <tr>\n",
              "      <th>3</th>\n",
              "      <td>Effect</td>\n",
              "      <td>18183.0</td>\n",
              "      <td>Inequidad social</td>\n",
              "    </tr>\n",
              "    <tr>\n",
              "      <th>4</th>\n",
              "      <td>Effect</td>\n",
              "      <td>18626.0</td>\n",
              "      <td>Baja capacidad de las entidades territoriales implementación de la política de víctimas</td>\n",
              "    </tr>\n",
              "    <tr>\n",
              "      <th>5</th>\n",
              "      <td>Cause</td>\n",
              "      <td>14455.0</td>\n",
              "      <td>Baja coordinación entre la Nación y las entidades territoriales en materia de atención a la población víctimas y actores del conflicto armado</td>\n",
              "    </tr>\n",
              "    <tr>\n",
              "      <th>6</th>\n",
              "      <td>Cause</td>\n",
              "      <td>14879.0</td>\n",
              "      <td>Sistema de corresponsabilidad es un tema reciente para el país</td>\n",
              "    </tr>\n",
              "    <tr>\n",
              "      <th>7</th>\n",
              "      <td>Problem</td>\n",
              "      <td>488.0</td>\n",
              "      <td>ESCASAS INICIATIVAS PRODUCTIVAS PARA INCENTIVAR A FAMILIAS VICTMAS DEL CONFLICTO PARA LA GENERACION DE INGRESOS</td>\n",
              "    </tr>\n",
              "    <tr>\n",
              "      <th>8</th>\n",
              "      <td>Effect</td>\n",
              "      <td>1849.0</td>\n",
              "      <td>INCREMENTO DE LA POBLACION EN CONDICIONES DE DESPLAZAMIENTO EN LOS CENTROS POBLADOS</td>\n",
              "    </tr>\n",
              "    <tr>\n",
              "      <th>9</th>\n",
              "      <td>Effect</td>\n",
              "      <td>1850.0</td>\n",
              "      <td>BAJOS INGRESOS PARA LAS FAMILIAS VICTIMAS DEL CONFLICTO</td>\n",
              "    </tr>\n",
              "  </tbody>\n",
              "</table>\n",
              "</div>\n",
              "      <button class=\"colab-df-convert\" onclick=\"convertToInteractive('df-3a7adac5-7aec-4da9-84b6-d6236ad74a6c')\"\n",
              "              title=\"Convert this dataframe to an interactive table.\"\n",
              "              style=\"display:none;\">\n",
              "        \n",
              "  <svg xmlns=\"http://www.w3.org/2000/svg\" height=\"24px\"viewBox=\"0 0 24 24\"\n",
              "       width=\"24px\">\n",
              "    <path d=\"M0 0h24v24H0V0z\" fill=\"none\"/>\n",
              "    <path d=\"M18.56 5.44l.94 2.06.94-2.06 2.06-.94-2.06-.94-.94-2.06-.94 2.06-2.06.94zm-11 1L8.5 8.5l.94-2.06 2.06-.94-2.06-.94L8.5 2.5l-.94 2.06-2.06.94zm10 10l.94 2.06.94-2.06 2.06-.94-2.06-.94-.94-2.06-.94 2.06-2.06.94z\"/><path d=\"M17.41 7.96l-1.37-1.37c-.4-.4-.92-.59-1.43-.59-.52 0-1.04.2-1.43.59L10.3 9.45l-7.72 7.72c-.78.78-.78 2.05 0 2.83L4 21.41c.39.39.9.59 1.41.59.51 0 1.02-.2 1.41-.59l7.78-7.78 2.81-2.81c.8-.78.8-2.07 0-2.86zM5.41 20L4 18.59l7.72-7.72 1.47 1.35L5.41 20z\"/>\n",
              "  </svg>\n",
              "      </button>\n",
              "      \n",
              "  <style>\n",
              "    .colab-df-container {\n",
              "      display:flex;\n",
              "      flex-wrap:wrap;\n",
              "      gap: 12px;\n",
              "    }\n",
              "\n",
              "    .colab-df-convert {\n",
              "      background-color: #E8F0FE;\n",
              "      border: none;\n",
              "      border-radius: 50%;\n",
              "      cursor: pointer;\n",
              "      display: none;\n",
              "      fill: #1967D2;\n",
              "      height: 32px;\n",
              "      padding: 0 0 0 0;\n",
              "      width: 32px;\n",
              "    }\n",
              "\n",
              "    .colab-df-convert:hover {\n",
              "      background-color: #E2EBFA;\n",
              "      box-shadow: 0px 1px 2px rgba(60, 64, 67, 0.3), 0px 1px 3px 1px rgba(60, 64, 67, 0.15);\n",
              "      fill: #174EA6;\n",
              "    }\n",
              "\n",
              "    [theme=dark] .colab-df-convert {\n",
              "      background-color: #3B4455;\n",
              "      fill: #D2E3FC;\n",
              "    }\n",
              "\n",
              "    [theme=dark] .colab-df-convert:hover {\n",
              "      background-color: #434B5C;\n",
              "      box-shadow: 0px 1px 3px 1px rgba(0, 0, 0, 0.15);\n",
              "      filter: drop-shadow(0px 1px 2px rgba(0, 0, 0, 0.3));\n",
              "      fill: #FFFFFF;\n",
              "    }\n",
              "  </style>\n",
              "\n",
              "      <script>\n",
              "        const buttonEl =\n",
              "          document.querySelector('#df-3a7adac5-7aec-4da9-84b6-d6236ad74a6c button.colab-df-convert');\n",
              "        buttonEl.style.display =\n",
              "          google.colab.kernel.accessAllowed ? 'block' : 'none';\n",
              "\n",
              "        async function convertToInteractive(key) {\n",
              "          const element = document.querySelector('#df-3a7adac5-7aec-4da9-84b6-d6236ad74a6c');\n",
              "          const dataTable =\n",
              "            await google.colab.kernel.invokeFunction('convertToInteractive',\n",
              "                                                     [key], {});\n",
              "          if (!dataTable) return;\n",
              "\n",
              "          const docLinkHtml = 'Like what you see? Visit the ' +\n",
              "            '<a target=\"_blank\" href=https://colab.research.google.com/notebooks/data_table.ipynb>data table notebook</a>'\n",
              "            + ' to learn more about interactive tables.';\n",
              "          element.innerHTML = '';\n",
              "          dataTable['output_type'] = 'display_data';\n",
              "          await google.colab.output.renderOutput(dataTable, element);\n",
              "          const docLink = document.createElement('div');\n",
              "          docLink.innerHTML = docLinkHtml;\n",
              "          element.appendChild(docLink);\n",
              "        }\n",
              "      </script>\n",
              "    </div>\n",
              "  </div>\n",
              "  "
            ]
          },
          "metadata": {},
          "execution_count": 50
        }
      ]
    },
    {
      "cell_type": "markdown",
      "source": [
        "**Renombrar Columnas**"
      ],
      "metadata": {
        "id": "F8-6yjwsiaPa"
      }
    },
    {
      "cell_type": "code",
      "source": [
        "df_nlp.rename({0: 'causa', 1:\"puntos\",2:\"descripcion\"}, axis=1,inplace=True)"
      ],
      "metadata": {
        "id": "7XFsCJgAiZyq"
      },
      "execution_count": 51,
      "outputs": []
    },
    {
      "cell_type": "code",
      "source": [
        "df_nlp.head(10)"
      ],
      "metadata": {
        "colab": {
          "base_uri": "https://localhost:8080/",
          "height": 511
        },
        "id": "D_RgLyh5ivpQ",
        "outputId": "bb00782e-ef55-438a-f2bc-cf66780c1412"
      },
      "execution_count": 52,
      "outputs": [
        {
          "output_type": "execute_result",
          "data": {
            "text/plain": [
              "     causa   puntos  \\\n",
              "0  Problem   3655.0   \n",
              "1   Effect  18181.0   \n",
              "2   Effect  18182.0   \n",
              "3   Effect  18183.0   \n",
              "4   Effect  18626.0   \n",
              "5    Cause  14455.0   \n",
              "6    Cause  14879.0   \n",
              "7  Problem    488.0   \n",
              "8   Effect   1849.0   \n",
              "9   Effect   1850.0   \n",
              "\n",
              "                                                                                                                                                                                                      descripcion  \n",
              "0  Deficiencia en las reglas, protocolos y procesos de la corresponsabilidad entre la Nación y demás entes territoriales del país en la implementación de la política para víctimas y demás actores del conflicto  \n",
              "1                                                                                                                                                 Descoordinación institucional en el tema de atención a víctimas  \n",
              "2                                                                                                   Ineficiencia e ineficacia en la atención a víctimas del conflicto armado por parte de los entes territoriales  \n",
              "3                                                                                                                                                                                                Inequidad social  \n",
              "4                                                                                                                         Baja capacidad de las entidades territoriales implementación de la política de víctimas  \n",
              "5                                                                   Baja coordinación entre la Nación y las entidades territoriales en materia de atención a la población víctimas y actores del conflicto armado  \n",
              "6                                                                                                                                                  Sistema de corresponsabilidad es un tema reciente para el país  \n",
              "7                                                                                                 ESCASAS INICIATIVAS PRODUCTIVAS PARA INCENTIVAR A FAMILIAS VICTMAS DEL CONFLICTO PARA LA GENERACION DE INGRESOS  \n",
              "8                                                                                                                             INCREMENTO DE LA POBLACION EN CONDICIONES DE DESPLAZAMIENTO EN LOS CENTROS POBLADOS  \n",
              "9                                                                                                                                                         BAJOS INGRESOS PARA LAS FAMILIAS VICTIMAS DEL CONFLICTO  "
            ],
            "text/html": [
              "\n",
              "  <div id=\"df-a3aaaf11-879a-4a1e-ada8-b8d8a767fba4\">\n",
              "    <div class=\"colab-df-container\">\n",
              "      <div>\n",
              "<style scoped>\n",
              "    .dataframe tbody tr th:only-of-type {\n",
              "        vertical-align: middle;\n",
              "    }\n",
              "\n",
              "    .dataframe tbody tr th {\n",
              "        vertical-align: top;\n",
              "    }\n",
              "\n",
              "    .dataframe thead th {\n",
              "        text-align: right;\n",
              "    }\n",
              "</style>\n",
              "<table border=\"1\" class=\"dataframe\">\n",
              "  <thead>\n",
              "    <tr style=\"text-align: right;\">\n",
              "      <th></th>\n",
              "      <th>causa</th>\n",
              "      <th>puntos</th>\n",
              "      <th>descripcion</th>\n",
              "    </tr>\n",
              "  </thead>\n",
              "  <tbody>\n",
              "    <tr>\n",
              "      <th>0</th>\n",
              "      <td>Problem</td>\n",
              "      <td>3655.0</td>\n",
              "      <td>Deficiencia en las reglas, protocolos y procesos de la corresponsabilidad entre la Nación y demás entes territoriales del país en la implementación de la política para víctimas y demás actores del conflicto</td>\n",
              "    </tr>\n",
              "    <tr>\n",
              "      <th>1</th>\n",
              "      <td>Effect</td>\n",
              "      <td>18181.0</td>\n",
              "      <td>Descoordinación institucional en el tema de atención a víctimas</td>\n",
              "    </tr>\n",
              "    <tr>\n",
              "      <th>2</th>\n",
              "      <td>Effect</td>\n",
              "      <td>18182.0</td>\n",
              "      <td>Ineficiencia e ineficacia en la atención a víctimas del conflicto armado por parte de los entes territoriales</td>\n",
              "    </tr>\n",
              "    <tr>\n",
              "      <th>3</th>\n",
              "      <td>Effect</td>\n",
              "      <td>18183.0</td>\n",
              "      <td>Inequidad social</td>\n",
              "    </tr>\n",
              "    <tr>\n",
              "      <th>4</th>\n",
              "      <td>Effect</td>\n",
              "      <td>18626.0</td>\n",
              "      <td>Baja capacidad de las entidades territoriales implementación de la política de víctimas</td>\n",
              "    </tr>\n",
              "    <tr>\n",
              "      <th>5</th>\n",
              "      <td>Cause</td>\n",
              "      <td>14455.0</td>\n",
              "      <td>Baja coordinación entre la Nación y las entidades territoriales en materia de atención a la población víctimas y actores del conflicto armado</td>\n",
              "    </tr>\n",
              "    <tr>\n",
              "      <th>6</th>\n",
              "      <td>Cause</td>\n",
              "      <td>14879.0</td>\n",
              "      <td>Sistema de corresponsabilidad es un tema reciente para el país</td>\n",
              "    </tr>\n",
              "    <tr>\n",
              "      <th>7</th>\n",
              "      <td>Problem</td>\n",
              "      <td>488.0</td>\n",
              "      <td>ESCASAS INICIATIVAS PRODUCTIVAS PARA INCENTIVAR A FAMILIAS VICTMAS DEL CONFLICTO PARA LA GENERACION DE INGRESOS</td>\n",
              "    </tr>\n",
              "    <tr>\n",
              "      <th>8</th>\n",
              "      <td>Effect</td>\n",
              "      <td>1849.0</td>\n",
              "      <td>INCREMENTO DE LA POBLACION EN CONDICIONES DE DESPLAZAMIENTO EN LOS CENTROS POBLADOS</td>\n",
              "    </tr>\n",
              "    <tr>\n",
              "      <th>9</th>\n",
              "      <td>Effect</td>\n",
              "      <td>1850.0</td>\n",
              "      <td>BAJOS INGRESOS PARA LAS FAMILIAS VICTIMAS DEL CONFLICTO</td>\n",
              "    </tr>\n",
              "  </tbody>\n",
              "</table>\n",
              "</div>\n",
              "      <button class=\"colab-df-convert\" onclick=\"convertToInteractive('df-a3aaaf11-879a-4a1e-ada8-b8d8a767fba4')\"\n",
              "              title=\"Convert this dataframe to an interactive table.\"\n",
              "              style=\"display:none;\">\n",
              "        \n",
              "  <svg xmlns=\"http://www.w3.org/2000/svg\" height=\"24px\"viewBox=\"0 0 24 24\"\n",
              "       width=\"24px\">\n",
              "    <path d=\"M0 0h24v24H0V0z\" fill=\"none\"/>\n",
              "    <path d=\"M18.56 5.44l.94 2.06.94-2.06 2.06-.94-2.06-.94-.94-2.06-.94 2.06-2.06.94zm-11 1L8.5 8.5l.94-2.06 2.06-.94-2.06-.94L8.5 2.5l-.94 2.06-2.06.94zm10 10l.94 2.06.94-2.06 2.06-.94-2.06-.94-.94-2.06-.94 2.06-2.06.94z\"/><path d=\"M17.41 7.96l-1.37-1.37c-.4-.4-.92-.59-1.43-.59-.52 0-1.04.2-1.43.59L10.3 9.45l-7.72 7.72c-.78.78-.78 2.05 0 2.83L4 21.41c.39.39.9.59 1.41.59.51 0 1.02-.2 1.41-.59l7.78-7.78 2.81-2.81c.8-.78.8-2.07 0-2.86zM5.41 20L4 18.59l7.72-7.72 1.47 1.35L5.41 20z\"/>\n",
              "  </svg>\n",
              "      </button>\n",
              "      \n",
              "  <style>\n",
              "    .colab-df-container {\n",
              "      display:flex;\n",
              "      flex-wrap:wrap;\n",
              "      gap: 12px;\n",
              "    }\n",
              "\n",
              "    .colab-df-convert {\n",
              "      background-color: #E8F0FE;\n",
              "      border: none;\n",
              "      border-radius: 50%;\n",
              "      cursor: pointer;\n",
              "      display: none;\n",
              "      fill: #1967D2;\n",
              "      height: 32px;\n",
              "      padding: 0 0 0 0;\n",
              "      width: 32px;\n",
              "    }\n",
              "\n",
              "    .colab-df-convert:hover {\n",
              "      background-color: #E2EBFA;\n",
              "      box-shadow: 0px 1px 2px rgba(60, 64, 67, 0.3), 0px 1px 3px 1px rgba(60, 64, 67, 0.15);\n",
              "      fill: #174EA6;\n",
              "    }\n",
              "\n",
              "    [theme=dark] .colab-df-convert {\n",
              "      background-color: #3B4455;\n",
              "      fill: #D2E3FC;\n",
              "    }\n",
              "\n",
              "    [theme=dark] .colab-df-convert:hover {\n",
              "      background-color: #434B5C;\n",
              "      box-shadow: 0px 1px 3px 1px rgba(0, 0, 0, 0.15);\n",
              "      filter: drop-shadow(0px 1px 2px rgba(0, 0, 0, 0.3));\n",
              "      fill: #FFFFFF;\n",
              "    }\n",
              "  </style>\n",
              "\n",
              "      <script>\n",
              "        const buttonEl =\n",
              "          document.querySelector('#df-a3aaaf11-879a-4a1e-ada8-b8d8a767fba4 button.colab-df-convert');\n",
              "        buttonEl.style.display =\n",
              "          google.colab.kernel.accessAllowed ? 'block' : 'none';\n",
              "\n",
              "        async function convertToInteractive(key) {\n",
              "          const element = document.querySelector('#df-a3aaaf11-879a-4a1e-ada8-b8d8a767fba4');\n",
              "          const dataTable =\n",
              "            await google.colab.kernel.invokeFunction('convertToInteractive',\n",
              "                                                     [key], {});\n",
              "          if (!dataTable) return;\n",
              "\n",
              "          const docLinkHtml = 'Like what you see? Visit the ' +\n",
              "            '<a target=\"_blank\" href=https://colab.research.google.com/notebooks/data_table.ipynb>data table notebook</a>'\n",
              "            + ' to learn more about interactive tables.';\n",
              "          element.innerHTML = '';\n",
              "          dataTable['output_type'] = 'display_data';\n",
              "          await google.colab.output.renderOutput(dataTable, element);\n",
              "          const docLink = document.createElement('div');\n",
              "          docLink.innerHTML = docLinkHtml;\n",
              "          element.appendChild(docLink);\n",
              "        }\n",
              "      </script>\n",
              "    </div>\n",
              "  </div>\n",
              "  "
            ]
          },
          "metadata": {},
          "execution_count": 52
        }
      ]
    },
    {
      "cell_type": "markdown",
      "source": [
        "**Mostrar todos los resultados completos de un Data Frame**"
      ],
      "metadata": {
        "id": "ap4V_zF4p_Jm"
      }
    },
    {
      "cell_type": "code",
      "source": [
        "pd.set_option('max_rows', 99999)\n",
        "pd.set_option('max_colwidth', 9999)\n",
        "pd.set_option('display.max_columns', None)\n",
        "pd.describe_option('max_colwidth')"
      ],
      "metadata": {
        "colab": {
          "base_uri": "https://localhost:8080/"
        },
        "id": "c46wqGQEp-R3",
        "outputId": "0cb50177-a42d-4688-cdb2-555031a2bf94"
      },
      "execution_count": 14,
      "outputs": [
        {
          "output_type": "stream",
          "name": "stdout",
          "text": [
            "display.max_colwidth : int or None\n",
            "    The maximum width in characters of a column in the repr of\n",
            "    a pandas data structure. When the column overflows, a \"...\"\n",
            "    placeholder is embedded in the output. A 'None' value means unlimited.\n",
            "    [default: 50] [currently: 9999]\n"
          ]
        }
      ]
    },
    {
      "cell_type": "code",
      "source": [
        "df_nlp.head(10)"
      ],
      "metadata": {
        "colab": {
          "base_uri": "https://localhost:8080/",
          "height": 511
        },
        "id": "_cP30HcLqFdK",
        "outputId": "207ea0bf-e20c-423a-a505-e99cb9a8e2e2"
      },
      "execution_count": 15,
      "outputs": [
        {
          "output_type": "execute_result",
          "data": {
            "text/plain": [
              "     causa   puntos  \\\n",
              "0  Problem   3655.0   \n",
              "1   Effect  18181.0   \n",
              "2   Effect  18182.0   \n",
              "3   Effect  18183.0   \n",
              "4   Effect  18626.0   \n",
              "5    Cause  14455.0   \n",
              "6    Cause  14879.0   \n",
              "7  Problem    488.0   \n",
              "8   Effect   1849.0   \n",
              "9   Effect   1850.0   \n",
              "\n",
              "                                                                                                                                                                                                      descripcion  \n",
              "0  Deficiencia en las reglas, protocolos y procesos de la corresponsabilidad entre la Nación y demás entes territoriales del país en la implementación de la política para víctimas y demás actores del conflicto  \n",
              "1                                                                                                                                                 Descoordinación institucional en el tema de atención a víctimas  \n",
              "2                                                                                                   Ineficiencia e ineficacia en la atención a víctimas del conflicto armado por parte de los entes territoriales  \n",
              "3                                                                                                                                                                                                Inequidad social  \n",
              "4                                                                                                                         Baja capacidad de las entidades territoriales implementación de la política de víctimas  \n",
              "5                                                                   Baja coordinación entre la Nación y las entidades territoriales en materia de atención a la población víctimas y actores del conflicto armado  \n",
              "6                                                                                                                                                  Sistema de corresponsabilidad es un tema reciente para el país  \n",
              "7                                                                                                 ESCASAS INICIATIVAS PRODUCTIVAS PARA INCENTIVAR A FAMILIAS VICTMAS DEL CONFLICTO PARA LA GENERACION DE INGRESOS  \n",
              "8                                                                                                                             INCREMENTO DE LA POBLACION EN CONDICIONES DE DESPLAZAMIENTO EN LOS CENTROS POBLADOS  \n",
              "9                                                                                                                                                         BAJOS INGRESOS PARA LAS FAMILIAS VICTIMAS DEL CONFLICTO  "
            ],
            "text/html": [
              "\n",
              "  <div id=\"df-81fcc890-1a7c-48ee-80fd-6515ac68033c\">\n",
              "    <div class=\"colab-df-container\">\n",
              "      <div>\n",
              "<style scoped>\n",
              "    .dataframe tbody tr th:only-of-type {\n",
              "        vertical-align: middle;\n",
              "    }\n",
              "\n",
              "    .dataframe tbody tr th {\n",
              "        vertical-align: top;\n",
              "    }\n",
              "\n",
              "    .dataframe thead th {\n",
              "        text-align: right;\n",
              "    }\n",
              "</style>\n",
              "<table border=\"1\" class=\"dataframe\">\n",
              "  <thead>\n",
              "    <tr style=\"text-align: right;\">\n",
              "      <th></th>\n",
              "      <th>causa</th>\n",
              "      <th>puntos</th>\n",
              "      <th>descripcion</th>\n",
              "    </tr>\n",
              "  </thead>\n",
              "  <tbody>\n",
              "    <tr>\n",
              "      <th>0</th>\n",
              "      <td>Problem</td>\n",
              "      <td>3655.0</td>\n",
              "      <td>Deficiencia en las reglas, protocolos y procesos de la corresponsabilidad entre la Nación y demás entes territoriales del país en la implementación de la política para víctimas y demás actores del conflicto</td>\n",
              "    </tr>\n",
              "    <tr>\n",
              "      <th>1</th>\n",
              "      <td>Effect</td>\n",
              "      <td>18181.0</td>\n",
              "      <td>Descoordinación institucional en el tema de atención a víctimas</td>\n",
              "    </tr>\n",
              "    <tr>\n",
              "      <th>2</th>\n",
              "      <td>Effect</td>\n",
              "      <td>18182.0</td>\n",
              "      <td>Ineficiencia e ineficacia en la atención a víctimas del conflicto armado por parte de los entes territoriales</td>\n",
              "    </tr>\n",
              "    <tr>\n",
              "      <th>3</th>\n",
              "      <td>Effect</td>\n",
              "      <td>18183.0</td>\n",
              "      <td>Inequidad social</td>\n",
              "    </tr>\n",
              "    <tr>\n",
              "      <th>4</th>\n",
              "      <td>Effect</td>\n",
              "      <td>18626.0</td>\n",
              "      <td>Baja capacidad de las entidades territoriales implementación de la política de víctimas</td>\n",
              "    </tr>\n",
              "    <tr>\n",
              "      <th>5</th>\n",
              "      <td>Cause</td>\n",
              "      <td>14455.0</td>\n",
              "      <td>Baja coordinación entre la Nación y las entidades territoriales en materia de atención a la población víctimas y actores del conflicto armado</td>\n",
              "    </tr>\n",
              "    <tr>\n",
              "      <th>6</th>\n",
              "      <td>Cause</td>\n",
              "      <td>14879.0</td>\n",
              "      <td>Sistema de corresponsabilidad es un tema reciente para el país</td>\n",
              "    </tr>\n",
              "    <tr>\n",
              "      <th>7</th>\n",
              "      <td>Problem</td>\n",
              "      <td>488.0</td>\n",
              "      <td>ESCASAS INICIATIVAS PRODUCTIVAS PARA INCENTIVAR A FAMILIAS VICTMAS DEL CONFLICTO PARA LA GENERACION DE INGRESOS</td>\n",
              "    </tr>\n",
              "    <tr>\n",
              "      <th>8</th>\n",
              "      <td>Effect</td>\n",
              "      <td>1849.0</td>\n",
              "      <td>INCREMENTO DE LA POBLACION EN CONDICIONES DE DESPLAZAMIENTO EN LOS CENTROS POBLADOS</td>\n",
              "    </tr>\n",
              "    <tr>\n",
              "      <th>9</th>\n",
              "      <td>Effect</td>\n",
              "      <td>1850.0</td>\n",
              "      <td>BAJOS INGRESOS PARA LAS FAMILIAS VICTIMAS DEL CONFLICTO</td>\n",
              "    </tr>\n",
              "  </tbody>\n",
              "</table>\n",
              "</div>\n",
              "      <button class=\"colab-df-convert\" onclick=\"convertToInteractive('df-81fcc890-1a7c-48ee-80fd-6515ac68033c')\"\n",
              "              title=\"Convert this dataframe to an interactive table.\"\n",
              "              style=\"display:none;\">\n",
              "        \n",
              "  <svg xmlns=\"http://www.w3.org/2000/svg\" height=\"24px\"viewBox=\"0 0 24 24\"\n",
              "       width=\"24px\">\n",
              "    <path d=\"M0 0h24v24H0V0z\" fill=\"none\"/>\n",
              "    <path d=\"M18.56 5.44l.94 2.06.94-2.06 2.06-.94-2.06-.94-.94-2.06-.94 2.06-2.06.94zm-11 1L8.5 8.5l.94-2.06 2.06-.94-2.06-.94L8.5 2.5l-.94 2.06-2.06.94zm10 10l.94 2.06.94-2.06 2.06-.94-2.06-.94-.94-2.06-.94 2.06-2.06.94z\"/><path d=\"M17.41 7.96l-1.37-1.37c-.4-.4-.92-.59-1.43-.59-.52 0-1.04.2-1.43.59L10.3 9.45l-7.72 7.72c-.78.78-.78 2.05 0 2.83L4 21.41c.39.39.9.59 1.41.59.51 0 1.02-.2 1.41-.59l7.78-7.78 2.81-2.81c.8-.78.8-2.07 0-2.86zM5.41 20L4 18.59l7.72-7.72 1.47 1.35L5.41 20z\"/>\n",
              "  </svg>\n",
              "      </button>\n",
              "      \n",
              "  <style>\n",
              "    .colab-df-container {\n",
              "      display:flex;\n",
              "      flex-wrap:wrap;\n",
              "      gap: 12px;\n",
              "    }\n",
              "\n",
              "    .colab-df-convert {\n",
              "      background-color: #E8F0FE;\n",
              "      border: none;\n",
              "      border-radius: 50%;\n",
              "      cursor: pointer;\n",
              "      display: none;\n",
              "      fill: #1967D2;\n",
              "      height: 32px;\n",
              "      padding: 0 0 0 0;\n",
              "      width: 32px;\n",
              "    }\n",
              "\n",
              "    .colab-df-convert:hover {\n",
              "      background-color: #E2EBFA;\n",
              "      box-shadow: 0px 1px 2px rgba(60, 64, 67, 0.3), 0px 1px 3px 1px rgba(60, 64, 67, 0.15);\n",
              "      fill: #174EA6;\n",
              "    }\n",
              "\n",
              "    [theme=dark] .colab-df-convert {\n",
              "      background-color: #3B4455;\n",
              "      fill: #D2E3FC;\n",
              "    }\n",
              "\n",
              "    [theme=dark] .colab-df-convert:hover {\n",
              "      background-color: #434B5C;\n",
              "      box-shadow: 0px 1px 3px 1px rgba(0, 0, 0, 0.15);\n",
              "      filter: drop-shadow(0px 1px 2px rgba(0, 0, 0, 0.3));\n",
              "      fill: #FFFFFF;\n",
              "    }\n",
              "  </style>\n",
              "\n",
              "      <script>\n",
              "        const buttonEl =\n",
              "          document.querySelector('#df-81fcc890-1a7c-48ee-80fd-6515ac68033c button.colab-df-convert');\n",
              "        buttonEl.style.display =\n",
              "          google.colab.kernel.accessAllowed ? 'block' : 'none';\n",
              "\n",
              "        async function convertToInteractive(key) {\n",
              "          const element = document.querySelector('#df-81fcc890-1a7c-48ee-80fd-6515ac68033c');\n",
              "          const dataTable =\n",
              "            await google.colab.kernel.invokeFunction('convertToInteractive',\n",
              "                                                     [key], {});\n",
              "          if (!dataTable) return;\n",
              "\n",
              "          const docLinkHtml = 'Like what you see? Visit the ' +\n",
              "            '<a target=\"_blank\" href=https://colab.research.google.com/notebooks/data_table.ipynb>data table notebook</a>'\n",
              "            + ' to learn more about interactive tables.';\n",
              "          element.innerHTML = '';\n",
              "          dataTable['output_type'] = 'display_data';\n",
              "          await google.colab.output.renderOutput(dataTable, element);\n",
              "          const docLink = document.createElement('div');\n",
              "          docLink.innerHTML = docLinkHtml;\n",
              "          element.appendChild(docLink);\n",
              "        }\n",
              "      </script>\n",
              "    </div>\n",
              "  </div>\n",
              "  "
            ]
          },
          "metadata": {},
          "execution_count": 15
        }
      ]
    },
    {
      "cell_type": "code",
      "source": [
        "df_nlp.info()"
      ],
      "metadata": {
        "id": "r-uIy63ZhW8B",
        "colab": {
          "base_uri": "https://localhost:8080/"
        },
        "outputId": "d2ae2866-fd24-439f-cf12-a3b4df715b19"
      },
      "execution_count": 16,
      "outputs": [
        {
          "output_type": "stream",
          "name": "stdout",
          "text": [
            "<class 'pandas.core.frame.DataFrame'>\n",
            "RangeIndex: 13037 entries, 0 to 13036\n",
            "Data columns (total 3 columns):\n",
            " #   Column       Non-Null Count  Dtype  \n",
            "---  ------       --------------  -----  \n",
            " 0   causa        13037 non-null  object \n",
            " 1   puntos       13034 non-null  float64\n",
            " 2   descripcion  13034 non-null  object \n",
            "dtypes: float64(1), object(2)\n",
            "memory usage: 305.7+ KB\n"
          ]
        }
      ]
    },
    {
      "cell_type": "markdown",
      "source": [
        "**Funcion Para remover caracteres especiales y pasar a minuscula**"
      ],
      "metadata": {
        "id": "i1lNFpbCyMyo"
      }
    },
    {
      "cell_type": "code",
      "source": [
        "import re\n",
        "def removePunctuation(text):\n",
        "   return text.lower().strip()"
      ],
      "metadata": {
        "id": "NwGei26MyYtq"
      },
      "execution_count": 78,
      "outputs": []
    },
    {
      "cell_type": "markdown",
      "source": [
        "**Cambiando tipos de datos**"
      ],
      "metadata": {
        "id": "sFYhEBYUjFNH"
      }
    },
    {
      "cell_type": "code",
      "source": [
        "df_nlp['puntos']=df_nlp['puntos'].astype('Int64')"
      ],
      "metadata": {
        "id": "NHeIOg7jjY4E"
      },
      "execution_count": 18,
      "outputs": []
    },
    {
      "cell_type": "code",
      "source": [
        "df_nlp['descripcion'].isnull().sum()"
      ],
      "metadata": {
        "colab": {
          "base_uri": "https://localhost:8080/"
        },
        "id": "XASZKPUzjiKV",
        "outputId": "7b604886-e3d2-413c-f8ec-5e2b3dd2251e"
      },
      "execution_count": 24,
      "outputs": [
        {
          "output_type": "execute_result",
          "data": {
            "text/plain": [
              "3"
            ]
          },
          "metadata": {},
          "execution_count": 24
        }
      ]
    },
    {
      "cell_type": "markdown",
      "source": [
        "Eliminando valores nulos"
      ],
      "metadata": {
        "id": "kwunSPE5j7h9"
      }
    },
    {
      "cell_type": "code",
      "source": [
        "df_nlp.dropna(how=\"any\", inplace=True)"
      ],
      "metadata": {
        "id": "f4InnNI4kXLu"
      },
      "execution_count": 53,
      "outputs": []
    },
    {
      "cell_type": "code",
      "source": [
        "df_nlp.info()"
      ],
      "metadata": {
        "colab": {
          "base_uri": "https://localhost:8080/"
        },
        "id": "rizB-nu3kuig",
        "outputId": "6324558d-31db-4bbe-f2fd-eba0e35d2baa"
      },
      "execution_count": 54,
      "outputs": [
        {
          "output_type": "stream",
          "name": "stdout",
          "text": [
            "<class 'pandas.core.frame.DataFrame'>\n",
            "Int64Index: 13034 entries, 0 to 13036\n",
            "Data columns (total 3 columns):\n",
            " #   Column       Non-Null Count  Dtype  \n",
            "---  ------       --------------  -----  \n",
            " 0   causa        13034 non-null  object \n",
            " 1   puntos       13034 non-null  float64\n",
            " 2   descripcion  13034 non-null  object \n",
            "dtypes: float64(1), object(2)\n",
            "memory usage: 407.3+ KB\n"
          ]
        }
      ]
    },
    {
      "cell_type": "code",
      "source": [
        "df_nlp['descripcion']=df_nlp['descripcion'].apply(lambda x: removePunctuation(x))"
      ],
      "metadata": {
        "id": "0bhcbU3Zx41E"
      },
      "execution_count": 79,
      "outputs": []
    },
    {
      "cell_type": "code",
      "source": [
        "df_nlp.head(12)"
      ],
      "metadata": {
        "colab": {
          "base_uri": "https://localhost:8080/",
          "height": 556
        },
        "id": "KMFpyp8B0gfZ",
        "outputId": "58d3a6bf-6b41-4447-acb1-5767ae5cb245"
      },
      "execution_count": 80,
      "outputs": [
        {
          "output_type": "execute_result",
          "data": {
            "text/plain": [
              "      causa   puntos  \\\n",
              "0   Problem   3655.0   \n",
              "1    Effect  18181.0   \n",
              "2    Effect  18182.0   \n",
              "3    Effect  18183.0   \n",
              "4    Effect  18626.0   \n",
              "5     Cause  14455.0   \n",
              "6     Cause  14879.0   \n",
              "7   Problem    488.0   \n",
              "8    Effect   1849.0   \n",
              "9    Effect   1850.0   \n",
              "10   Effect   1851.0   \n",
              "11   Effect   1852.0   \n",
              "\n",
              "                                                                                                                                                                                                       descripcion  \n",
              "0   deficiencia en las reglas, protocolos y procesos de la corresponsabilidad entre la nación y demás entes territoriales del país en la implementación de la política para víctimas y demás actores del conflicto  \n",
              "1                                                                                                                                                  descoordinación institucional en el tema de atención a víctimas  \n",
              "2                                                                                                    ineficiencia e ineficacia en la atención a víctimas del conflicto armado por parte de los entes territoriales  \n",
              "3                                                                                                                                                                                                 inequidad social  \n",
              "4                                                                                                                          baja capacidad de las entidades territoriales implementación de la política de víctimas  \n",
              "5                                                                    baja coordinación entre la nación y las entidades territoriales en materia de atención a la población víctimas y actores del conflicto armado  \n",
              "6                                                                                                                                                   sistema de corresponsabilidad es un tema reciente para el país  \n",
              "7                                                                                                  escasas iniciativas productivas para incentivar a familias victmas del conflicto para la generacion de ingresos  \n",
              "8                                                                                                                              incremento de la poblacion en condiciones de desplazamiento en los centros poblados  \n",
              "9                                                                                                                                                          bajos ingresos para las familias victimas del conflicto  \n",
              "10                                                                                                                                                               baja calida de vida de las victimas del conflicto  \n",
              "11                                                                                                                                                          aumento de las necesidades basicas insatisfechas (nbi)  "
            ],
            "text/html": [
              "\n",
              "  <div id=\"df-667002b1-b10c-4f80-9f1f-96dfbad87f78\">\n",
              "    <div class=\"colab-df-container\">\n",
              "      <div>\n",
              "<style scoped>\n",
              "    .dataframe tbody tr th:only-of-type {\n",
              "        vertical-align: middle;\n",
              "    }\n",
              "\n",
              "    .dataframe tbody tr th {\n",
              "        vertical-align: top;\n",
              "    }\n",
              "\n",
              "    .dataframe thead th {\n",
              "        text-align: right;\n",
              "    }\n",
              "</style>\n",
              "<table border=\"1\" class=\"dataframe\">\n",
              "  <thead>\n",
              "    <tr style=\"text-align: right;\">\n",
              "      <th></th>\n",
              "      <th>causa</th>\n",
              "      <th>puntos</th>\n",
              "      <th>descripcion</th>\n",
              "    </tr>\n",
              "  </thead>\n",
              "  <tbody>\n",
              "    <tr>\n",
              "      <th>0</th>\n",
              "      <td>Problem</td>\n",
              "      <td>3655.0</td>\n",
              "      <td>deficiencia en las reglas, protocolos y procesos de la corresponsabilidad entre la nación y demás entes territoriales del país en la implementación de la política para víctimas y demás actores del conflicto</td>\n",
              "    </tr>\n",
              "    <tr>\n",
              "      <th>1</th>\n",
              "      <td>Effect</td>\n",
              "      <td>18181.0</td>\n",
              "      <td>descoordinación institucional en el tema de atención a víctimas</td>\n",
              "    </tr>\n",
              "    <tr>\n",
              "      <th>2</th>\n",
              "      <td>Effect</td>\n",
              "      <td>18182.0</td>\n",
              "      <td>ineficiencia e ineficacia en la atención a víctimas del conflicto armado por parte de los entes territoriales</td>\n",
              "    </tr>\n",
              "    <tr>\n",
              "      <th>3</th>\n",
              "      <td>Effect</td>\n",
              "      <td>18183.0</td>\n",
              "      <td>inequidad social</td>\n",
              "    </tr>\n",
              "    <tr>\n",
              "      <th>4</th>\n",
              "      <td>Effect</td>\n",
              "      <td>18626.0</td>\n",
              "      <td>baja capacidad de las entidades territoriales implementación de la política de víctimas</td>\n",
              "    </tr>\n",
              "    <tr>\n",
              "      <th>5</th>\n",
              "      <td>Cause</td>\n",
              "      <td>14455.0</td>\n",
              "      <td>baja coordinación entre la nación y las entidades territoriales en materia de atención a la población víctimas y actores del conflicto armado</td>\n",
              "    </tr>\n",
              "    <tr>\n",
              "      <th>6</th>\n",
              "      <td>Cause</td>\n",
              "      <td>14879.0</td>\n",
              "      <td>sistema de corresponsabilidad es un tema reciente para el país</td>\n",
              "    </tr>\n",
              "    <tr>\n",
              "      <th>7</th>\n",
              "      <td>Problem</td>\n",
              "      <td>488.0</td>\n",
              "      <td>escasas iniciativas productivas para incentivar a familias victmas del conflicto para la generacion de ingresos</td>\n",
              "    </tr>\n",
              "    <tr>\n",
              "      <th>8</th>\n",
              "      <td>Effect</td>\n",
              "      <td>1849.0</td>\n",
              "      <td>incremento de la poblacion en condiciones de desplazamiento en los centros poblados</td>\n",
              "    </tr>\n",
              "    <tr>\n",
              "      <th>9</th>\n",
              "      <td>Effect</td>\n",
              "      <td>1850.0</td>\n",
              "      <td>bajos ingresos para las familias victimas del conflicto</td>\n",
              "    </tr>\n",
              "    <tr>\n",
              "      <th>10</th>\n",
              "      <td>Effect</td>\n",
              "      <td>1851.0</td>\n",
              "      <td>baja calida de vida de las victimas del conflicto</td>\n",
              "    </tr>\n",
              "    <tr>\n",
              "      <th>11</th>\n",
              "      <td>Effect</td>\n",
              "      <td>1852.0</td>\n",
              "      <td>aumento de las necesidades basicas insatisfechas (nbi)</td>\n",
              "    </tr>\n",
              "  </tbody>\n",
              "</table>\n",
              "</div>\n",
              "      <button class=\"colab-df-convert\" onclick=\"convertToInteractive('df-667002b1-b10c-4f80-9f1f-96dfbad87f78')\"\n",
              "              title=\"Convert this dataframe to an interactive table.\"\n",
              "              style=\"display:none;\">\n",
              "        \n",
              "  <svg xmlns=\"http://www.w3.org/2000/svg\" height=\"24px\"viewBox=\"0 0 24 24\"\n",
              "       width=\"24px\">\n",
              "    <path d=\"M0 0h24v24H0V0z\" fill=\"none\"/>\n",
              "    <path d=\"M18.56 5.44l.94 2.06.94-2.06 2.06-.94-2.06-.94-.94-2.06-.94 2.06-2.06.94zm-11 1L8.5 8.5l.94-2.06 2.06-.94-2.06-.94L8.5 2.5l-.94 2.06-2.06.94zm10 10l.94 2.06.94-2.06 2.06-.94-2.06-.94-.94-2.06-.94 2.06-2.06.94z\"/><path d=\"M17.41 7.96l-1.37-1.37c-.4-.4-.92-.59-1.43-.59-.52 0-1.04.2-1.43.59L10.3 9.45l-7.72 7.72c-.78.78-.78 2.05 0 2.83L4 21.41c.39.39.9.59 1.41.59.51 0 1.02-.2 1.41-.59l7.78-7.78 2.81-2.81c.8-.78.8-2.07 0-2.86zM5.41 20L4 18.59l7.72-7.72 1.47 1.35L5.41 20z\"/>\n",
              "  </svg>\n",
              "      </button>\n",
              "      \n",
              "  <style>\n",
              "    .colab-df-container {\n",
              "      display:flex;\n",
              "      flex-wrap:wrap;\n",
              "      gap: 12px;\n",
              "    }\n",
              "\n",
              "    .colab-df-convert {\n",
              "      background-color: #E8F0FE;\n",
              "      border: none;\n",
              "      border-radius: 50%;\n",
              "      cursor: pointer;\n",
              "      display: none;\n",
              "      fill: #1967D2;\n",
              "      height: 32px;\n",
              "      padding: 0 0 0 0;\n",
              "      width: 32px;\n",
              "    }\n",
              "\n",
              "    .colab-df-convert:hover {\n",
              "      background-color: #E2EBFA;\n",
              "      box-shadow: 0px 1px 2px rgba(60, 64, 67, 0.3), 0px 1px 3px 1px rgba(60, 64, 67, 0.15);\n",
              "      fill: #174EA6;\n",
              "    }\n",
              "\n",
              "    [theme=dark] .colab-df-convert {\n",
              "      background-color: #3B4455;\n",
              "      fill: #D2E3FC;\n",
              "    }\n",
              "\n",
              "    [theme=dark] .colab-df-convert:hover {\n",
              "      background-color: #434B5C;\n",
              "      box-shadow: 0px 1px 3px 1px rgba(0, 0, 0, 0.15);\n",
              "      filter: drop-shadow(0px 1px 2px rgba(0, 0, 0, 0.3));\n",
              "      fill: #FFFFFF;\n",
              "    }\n",
              "  </style>\n",
              "\n",
              "      <script>\n",
              "        const buttonEl =\n",
              "          document.querySelector('#df-667002b1-b10c-4f80-9f1f-96dfbad87f78 button.colab-df-convert');\n",
              "        buttonEl.style.display =\n",
              "          google.colab.kernel.accessAllowed ? 'block' : 'none';\n",
              "\n",
              "        async function convertToInteractive(key) {\n",
              "          const element = document.querySelector('#df-667002b1-b10c-4f80-9f1f-96dfbad87f78');\n",
              "          const dataTable =\n",
              "            await google.colab.kernel.invokeFunction('convertToInteractive',\n",
              "                                                     [key], {});\n",
              "          if (!dataTable) return;\n",
              "\n",
              "          const docLinkHtml = 'Like what you see? Visit the ' +\n",
              "            '<a target=\"_blank\" href=https://colab.research.google.com/notebooks/data_table.ipynb>data table notebook</a>'\n",
              "            + ' to learn more about interactive tables.';\n",
              "          element.innerHTML = '';\n",
              "          dataTable['output_type'] = 'display_data';\n",
              "          await google.colab.output.renderOutput(dataTable, element);\n",
              "          const docLink = document.createElement('div');\n",
              "          docLink.innerHTML = docLinkHtml;\n",
              "          element.appendChild(docLink);\n",
              "        }\n",
              "      </script>\n",
              "    </div>\n",
              "  </div>\n",
              "  "
            ]
          },
          "metadata": {},
          "execution_count": 80
        }
      ]
    },
    {
      "cell_type": "markdown",
      "source": [
        "**Valores Unicos**"
      ],
      "metadata": {
        "id": "eGIVou845qeu"
      }
    },
    {
      "cell_type": "code",
      "source": [
        "df_nlp.causa.value_counts()"
      ],
      "metadata": {
        "colab": {
          "base_uri": "https://localhost:8080/"
        },
        "id": "jvnACrPC5rHb",
        "outputId": "5c2ba109-4f5c-4346-f2ea-8d9b439477af"
      },
      "execution_count": 36,
      "outputs": [
        {
          "output_type": "execute_result",
          "data": {
            "text/plain": [
              "Effect     5976\n",
              "Cause      5307\n",
              "Problem    1751\n",
              "Name: causa, dtype: int64"
            ]
          },
          "metadata": {},
          "execution_count": 36
        }
      ]
    },
    {
      "cell_type": "code",
      "source": [
        "df_nlp.descripcion.value_counts().head(20)"
      ],
      "metadata": {
        "colab": {
          "base_uri": "https://localhost:8080/"
        },
        "id": "AmcJTzh152WF",
        "outputId": "006b8d35-e26e-4c90-d879-76aba11b31a9"
      },
      "execution_count": 37,
      "outputs": [
        {
          "output_type": "execute_result",
          "data": {
            "text/plain": [
              "aumento de tiempos de viaje                                                                    456\n",
              "aumento en los costos de transporte de carga y pasajeros                                       262\n",
              "deterioro de las vas                                                                           188\n",
              "desercin escolar                                                                               153\n",
              "incremento de precios de los alimentos                                                         153\n",
              "escaso mantenimiento de la va                                                                  146\n",
              "baja oferta y demanda de productos y transporte de la vereda                                   141\n",
              "puntos crticos detectados por atender                                                          139\n",
              "inoportuno acceso a servicios mdicos                                                           122\n",
              "baja comercializacin de productos del municipio                                                116\n",
              "dificultad en la intercomunicacin terrestre de una parte de la poblacin rural del municipio     99\n",
              "deterioro de la superficie de rodadura                                                          91\n",
              "deficiente drenaje de escorrenta                                                                91\n",
              "mantenimiento preventivo y correctivo deficiente                                                91\n",
              "desatencin de puntos crticos                                                                    90\n",
              "escaso mantenimiento de la via                                                                  57\n",
              "aumento en los tiempos de viaje                                                                 55\n",
              "va en mal estado                                                                                55\n",
              "deficiente mantenimiento de la va                                                               49\n",
              "vas en mal estado intransitables o con restricciones de trnsito                                 48\n",
              "Name: descripcion, dtype: int64"
            ]
          },
          "metadata": {},
          "execution_count": 37
        }
      ]
    },
    {
      "cell_type": "code",
      "source": [
        "df_nlp['puntos'].value_counts().head(10)"
      ],
      "metadata": {
        "colab": {
          "base_uri": "https://localhost:8080/"
        },
        "id": "AcWDSTLl6Kpz",
        "outputId": "fbc7335b-05f9-4acd-b272-5e3ff3ba880f"
      },
      "execution_count": 38,
      "outputs": [
        {
          "output_type": "execute_result",
          "data": {
            "text/plain": [
              "3087     10\n",
              "2489      8\n",
              "15798     8\n",
              "12537     8\n",
              "12536     8\n",
              "12535     8\n",
              "15799     8\n",
              "15801     8\n",
              "15800     8\n",
              "12534     8\n",
              "Name: puntos, dtype: Int64"
            ]
          },
          "metadata": {},
          "execution_count": 38
        }
      ]
    },
    {
      "cell_type": "markdown",
      "source": [
        "\n",
        "\n",
        "---\n",
        "\n",
        "\n",
        "\n",
        "---\n",
        "**Funciones para el procesamiento de texto**\n",
        "\n",
        "\n",
        "---\n",
        "\n",
        "\n",
        "\n",
        "---\n"
      ],
      "metadata": {
        "id": "uUqSGaU_9P0y"
      }
    },
    {
      "cell_type": "code",
      "source": [
        "def process_text(tweet):\n",
        "    '''\n",
        "    Input:\n",
        "        tweet: a string containing a tweet\n",
        "    Output:\n",
        "        tweets_clean: a list of words containing the processed tweet\n",
        "\n",
        "    '''  \n",
        "    ### START CODE HERE ###\n",
        "    #print(tweet)\n",
        "    stemmer = PorterStemmer()\n",
        "    stopwords_english = stopwords.words('spanish')\n",
        "    # remove stock market tickers like $GE\n",
        "    tweet = re.sub(r'\\$\\w*', '', tweet)\n",
        "    # remove old style retweet text \"RT\"\n",
        "    tweet = re.sub(r'^RT[\\s]+', '', tweet)\n",
        "    # remove hyperlinks    \n",
        "    tweet = re.sub(r'https?://[^\\s\\n\\r]+', '', tweet)\n",
        "    # remove hashtags\n",
        "    # only removing the hash # sign from the word\n",
        "    tweet = re.sub(r'#', '', tweet)\n",
        "    # quit intonation\n",
        "    tweet=unidecode(tweet)\n",
        "    # tokenize tweets\n",
        "    tokenizer = TweetTokenizer(preserve_case=False, strip_handles=True,\n",
        "                               reduce_len=True)\n",
        "    tweet_tokens = tokenizer.tokenize(tweet)\n",
        "    #tweet_tokens=unidecode(tweet_tokens)\n",
        "    #print(tweet_tokens)\n",
        "    tweets_clean = []\n",
        "    for word in tweet_tokens:\n",
        "        if (word not in stopwords_english and  # remove stopwords\n",
        "                word not in string.punctuation):  # remove punctuation\n",
        "            # tweets_clean.append(word)\n",
        "            stem_word = stemmer.stem(word)   # stemming word\n",
        "            tweets_clean.append(stem_word)\n",
        "    ### START CODE HERE ###\n",
        "    return tweets_clean"
      ],
      "metadata": {
        "id": "M0HIVml-1z6j"
      },
      "execution_count": 81,
      "outputs": []
    },
    {
      "cell_type": "code",
      "source": [
        "def count_words(result, tweets):\n",
        "    '''\n",
        "    Input:\n",
        "        result: a dictionary that will be used to map each pair to its frequency\n",
        "        tweets: a list of tweets\n",
        "        ys: a list corresponding to the sentiment of each tweet (either 0 or 1)\n",
        "    Output:\n",
        "        result: a dictionary mapping each pair to its frequency\n",
        "    '''\n",
        "    ### START CODE HERE ###\n",
        "    for tweet in tweets:\n",
        "        #print(tweet)\n",
        "        for word in process_text(tweet):\n",
        "            # define the key, which is the word and label tuple\n",
        "            #print(word)\n",
        "            #print(y)\n",
        "            pair = (word)\n",
        "            \n",
        "            # if the key exists in the dictionary, increment the count\n",
        "            if pair in result:\n",
        "                result[pair] += 1\n",
        "\n",
        "            # else, if the key is new, add it to the dictionary and set the count to 1\n",
        "            else:\n",
        "                result[pair] = 1\n",
        "    ### END CODE HERE ###\n",
        "\n",
        "    return result"
      ],
      "metadata": {
        "id": "Dd3qoGC58oF1"
      },
      "execution_count": 82,
      "outputs": []
    },
    {
      "cell_type": "code",
      "source": [
        "# Testing your function\n",
        "result = {}\n",
        "tweets = ['yo estoy feliz', 'yo estoy enojado', 'yo estoy trìste', 'yo estoy cansado', 'yo estoy cansado']\n",
        "count_words(result, tweets)"
      ],
      "metadata": {
        "colab": {
          "base_uri": "https://localhost:8080/"
        },
        "id": "ki1BQN7l-vSH",
        "outputId": "8591a6ea-1fad-4bb6-8f6b-2cc44a00755d"
      },
      "execution_count": 83,
      "outputs": [
        {
          "output_type": "execute_result",
          "data": {
            "text/plain": [
              "{'feliz': 1, 'enojado': 1, 'trist': 1, 'cansado': 2}"
            ]
          },
          "metadata": {},
          "execution_count": 83
        }
      ]
    },
    {
      "cell_type": "code",
      "source": [
        "words=df_nlp.descripcion.values"
      ],
      "metadata": {
        "id": "tO0MGaI_Ao-G"
      },
      "execution_count": 84,
      "outputs": []
    },
    {
      "cell_type": "code",
      "source": [
        "words"
      ],
      "metadata": {
        "colab": {
          "base_uri": "https://localhost:8080/"
        },
        "id": "E5u8Ab1PBZPr",
        "outputId": "cdd6f2c2-eb23-4810-d6ed-d464eaa95e2e"
      },
      "execution_count": 85,
      "outputs": [
        {
          "output_type": "execute_result",
          "data": {
            "text/plain": [
              "array(['deficiencia en las reglas, protocolos y procesos de la corresponsabilidad entre la nación y demás entes territoriales del país en la implementación de la política para víctimas y demás actores del conflicto',\n",
              "       'descoordinación institucional en el tema de atención a víctimas',\n",
              "       'ineficiencia e ineficacia en la atención a víctimas del conflicto armado por parte de los entes territoriales',\n",
              "       ...,\n",
              "       'poca gestión institucional dentro de los procesos de atención y prestación de servicios para la comunidad',\n",
              "       'éficit de recursos económicos y financieros',\n",
              "       'requerimientos legales por cumplir'], dtype=object)"
            ]
          },
          "metadata": {},
          "execution_count": 85
        }
      ]
    },
    {
      "cell_type": "markdown",
      "source": [
        "**Contando Palabras**"
      ],
      "metadata": {
        "id": "Zi5S1E6IBMLR"
      }
    },
    {
      "cell_type": "code",
      "source": [
        "result = {}\n",
        "occurency_words=count_words(result, words)"
      ],
      "metadata": {
        "id": "GrqTBaInBPRN"
      },
      "execution_count": 86,
      "outputs": []
    },
    {
      "cell_type": "code",
      "source": [
        "type(occurency_words)"
      ],
      "metadata": {
        "colab": {
          "base_uri": "https://localhost:8080/"
        },
        "id": "hVzgocRyP0mQ",
        "outputId": "5b7c93ee-deee-42a5-d863-80501357572c"
      },
      "execution_count": 87,
      "outputs": [
        {
          "output_type": "execute_result",
          "data": {
            "text/plain": [
              "dict"
            ]
          },
          "metadata": {},
          "execution_count": 87
        }
      ]
    },
    {
      "cell_type": "code",
      "source": [
        "df_pd_occurency_words=pd.DataFrame(occurency_words.items(), columns=['word', 'occurrency'])"
      ],
      "metadata": {
        "id": "PyESd17wQKK2"
      },
      "execution_count": 88,
      "outputs": []
    },
    {
      "cell_type": "code",
      "source": [
        "df_pd_occurency_words.head(10)"
      ],
      "metadata": {
        "colab": {
          "base_uri": "https://localhost:8080/",
          "height": 363
        },
        "id": "2Eypbgv-Qg-u",
        "outputId": "1a2eb424-cb4e-4d19-b815-dea10beb570f"
      },
      "execution_count": 89,
      "outputs": [
        {
          "output_type": "execute_result",
          "data": {
            "text/plain": [
              "                 word  occurrency\n",
              "0         deficiencia         163\n",
              "1               regla           1\n",
              "2           protocolo           5\n",
              "3             proceso         223\n",
              "4  corresponsabilidad           2\n",
              "5              nacion          28\n",
              "6                dema          53\n",
              "7                 ent          22\n",
              "8         territorial          17\n",
              "9                 pai           5"
            ],
            "text/html": [
              "\n",
              "  <div id=\"df-93c5a58a-aabc-483d-9c07-7bee1c9cd2b5\">\n",
              "    <div class=\"colab-df-container\">\n",
              "      <div>\n",
              "<style scoped>\n",
              "    .dataframe tbody tr th:only-of-type {\n",
              "        vertical-align: middle;\n",
              "    }\n",
              "\n",
              "    .dataframe tbody tr th {\n",
              "        vertical-align: top;\n",
              "    }\n",
              "\n",
              "    .dataframe thead th {\n",
              "        text-align: right;\n",
              "    }\n",
              "</style>\n",
              "<table border=\"1\" class=\"dataframe\">\n",
              "  <thead>\n",
              "    <tr style=\"text-align: right;\">\n",
              "      <th></th>\n",
              "      <th>word</th>\n",
              "      <th>occurrency</th>\n",
              "    </tr>\n",
              "  </thead>\n",
              "  <tbody>\n",
              "    <tr>\n",
              "      <th>0</th>\n",
              "      <td>deficiencia</td>\n",
              "      <td>163</td>\n",
              "    </tr>\n",
              "    <tr>\n",
              "      <th>1</th>\n",
              "      <td>regla</td>\n",
              "      <td>1</td>\n",
              "    </tr>\n",
              "    <tr>\n",
              "      <th>2</th>\n",
              "      <td>protocolo</td>\n",
              "      <td>5</td>\n",
              "    </tr>\n",
              "    <tr>\n",
              "      <th>3</th>\n",
              "      <td>proceso</td>\n",
              "      <td>223</td>\n",
              "    </tr>\n",
              "    <tr>\n",
              "      <th>4</th>\n",
              "      <td>corresponsabilidad</td>\n",
              "      <td>2</td>\n",
              "    </tr>\n",
              "    <tr>\n",
              "      <th>5</th>\n",
              "      <td>nacion</td>\n",
              "      <td>28</td>\n",
              "    </tr>\n",
              "    <tr>\n",
              "      <th>6</th>\n",
              "      <td>dema</td>\n",
              "      <td>53</td>\n",
              "    </tr>\n",
              "    <tr>\n",
              "      <th>7</th>\n",
              "      <td>ent</td>\n",
              "      <td>22</td>\n",
              "    </tr>\n",
              "    <tr>\n",
              "      <th>8</th>\n",
              "      <td>territorial</td>\n",
              "      <td>17</td>\n",
              "    </tr>\n",
              "    <tr>\n",
              "      <th>9</th>\n",
              "      <td>pai</td>\n",
              "      <td>5</td>\n",
              "    </tr>\n",
              "  </tbody>\n",
              "</table>\n",
              "</div>\n",
              "      <button class=\"colab-df-convert\" onclick=\"convertToInteractive('df-93c5a58a-aabc-483d-9c07-7bee1c9cd2b5')\"\n",
              "              title=\"Convert this dataframe to an interactive table.\"\n",
              "              style=\"display:none;\">\n",
              "        \n",
              "  <svg xmlns=\"http://www.w3.org/2000/svg\" height=\"24px\"viewBox=\"0 0 24 24\"\n",
              "       width=\"24px\">\n",
              "    <path d=\"M0 0h24v24H0V0z\" fill=\"none\"/>\n",
              "    <path d=\"M18.56 5.44l.94 2.06.94-2.06 2.06-.94-2.06-.94-.94-2.06-.94 2.06-2.06.94zm-11 1L8.5 8.5l.94-2.06 2.06-.94-2.06-.94L8.5 2.5l-.94 2.06-2.06.94zm10 10l.94 2.06.94-2.06 2.06-.94-2.06-.94-.94-2.06-.94 2.06-2.06.94z\"/><path d=\"M17.41 7.96l-1.37-1.37c-.4-.4-.92-.59-1.43-.59-.52 0-1.04.2-1.43.59L10.3 9.45l-7.72 7.72c-.78.78-.78 2.05 0 2.83L4 21.41c.39.39.9.59 1.41.59.51 0 1.02-.2 1.41-.59l7.78-7.78 2.81-2.81c.8-.78.8-2.07 0-2.86zM5.41 20L4 18.59l7.72-7.72 1.47 1.35L5.41 20z\"/>\n",
              "  </svg>\n",
              "      </button>\n",
              "      \n",
              "  <style>\n",
              "    .colab-df-container {\n",
              "      display:flex;\n",
              "      flex-wrap:wrap;\n",
              "      gap: 12px;\n",
              "    }\n",
              "\n",
              "    .colab-df-convert {\n",
              "      background-color: #E8F0FE;\n",
              "      border: none;\n",
              "      border-radius: 50%;\n",
              "      cursor: pointer;\n",
              "      display: none;\n",
              "      fill: #1967D2;\n",
              "      height: 32px;\n",
              "      padding: 0 0 0 0;\n",
              "      width: 32px;\n",
              "    }\n",
              "\n",
              "    .colab-df-convert:hover {\n",
              "      background-color: #E2EBFA;\n",
              "      box-shadow: 0px 1px 2px rgba(60, 64, 67, 0.3), 0px 1px 3px 1px rgba(60, 64, 67, 0.15);\n",
              "      fill: #174EA6;\n",
              "    }\n",
              "\n",
              "    [theme=dark] .colab-df-convert {\n",
              "      background-color: #3B4455;\n",
              "      fill: #D2E3FC;\n",
              "    }\n",
              "\n",
              "    [theme=dark] .colab-df-convert:hover {\n",
              "      background-color: #434B5C;\n",
              "      box-shadow: 0px 1px 3px 1px rgba(0, 0, 0, 0.15);\n",
              "      filter: drop-shadow(0px 1px 2px rgba(0, 0, 0, 0.3));\n",
              "      fill: #FFFFFF;\n",
              "    }\n",
              "  </style>\n",
              "\n",
              "      <script>\n",
              "        const buttonEl =\n",
              "          document.querySelector('#df-93c5a58a-aabc-483d-9c07-7bee1c9cd2b5 button.colab-df-convert');\n",
              "        buttonEl.style.display =\n",
              "          google.colab.kernel.accessAllowed ? 'block' : 'none';\n",
              "\n",
              "        async function convertToInteractive(key) {\n",
              "          const element = document.querySelector('#df-93c5a58a-aabc-483d-9c07-7bee1c9cd2b5');\n",
              "          const dataTable =\n",
              "            await google.colab.kernel.invokeFunction('convertToInteractive',\n",
              "                                                     [key], {});\n",
              "          if (!dataTable) return;\n",
              "\n",
              "          const docLinkHtml = 'Like what you see? Visit the ' +\n",
              "            '<a target=\"_blank\" href=https://colab.research.google.com/notebooks/data_table.ipynb>data table notebook</a>'\n",
              "            + ' to learn more about interactive tables.';\n",
              "          element.innerHTML = '';\n",
              "          dataTable['output_type'] = 'display_data';\n",
              "          await google.colab.output.renderOutput(dataTable, element);\n",
              "          const docLink = document.createElement('div');\n",
              "          docLink.innerHTML = docLinkHtml;\n",
              "          element.appendChild(docLink);\n",
              "        }\n",
              "      </script>\n",
              "    </div>\n",
              "  </div>\n",
              "  "
            ]
          },
          "metadata": {},
          "execution_count": 89
        }
      ]
    },
    {
      "cell_type": "markdown",
      "source": [
        "**Las 20 Palabras mas ocurrentes**"
      ],
      "metadata": {
        "id": "aQric1qEQpRP"
      }
    },
    {
      "cell_type": "code",
      "source": [
        "df_pd_occurency_words.sort_values('occurrency',ascending=False).head(20)"
      ],
      "metadata": {
        "colab": {
          "base_uri": "https://localhost:8080/",
          "height": 677
        },
        "id": "YPuEScUFQufy",
        "outputId": "dbc8ead3-506b-4f5c-c9a2-4a3e6ee8a3d6"
      },
      "execution_count": 90,
      "outputs": [
        {
          "output_type": "execute_result",
          "data": {
            "text/plain": [
              "                   word  occurrency\n",
              "1711                via        2125\n",
              "80            municipio        1668\n",
              "49              aumento        1600\n",
              "30            poblacion        1180\n",
              "518       mantenimiento        1177\n",
              "125          dificultad        1140\n",
              "234              vereda        1068\n",
              "74                costo         988\n",
              "1046             tiempo         946\n",
              "25                 baja         911\n",
              "204           deterioro         820\n",
              "368           transport         786\n",
              "112              sector         765\n",
              "179               rural         733\n",
              "56                falta         731\n",
              "2007               viaj         702\n",
              "83             producto         702\n",
              "59            deficient         663\n",
              "2908  intercomunicacion         651\n",
              "670            terrestr         627"
            ],
            "text/html": [
              "\n",
              "  <div id=\"df-6477788d-23b3-41e1-9c5f-45af53575c17\">\n",
              "    <div class=\"colab-df-container\">\n",
              "      <div>\n",
              "<style scoped>\n",
              "    .dataframe tbody tr th:only-of-type {\n",
              "        vertical-align: middle;\n",
              "    }\n",
              "\n",
              "    .dataframe tbody tr th {\n",
              "        vertical-align: top;\n",
              "    }\n",
              "\n",
              "    .dataframe thead th {\n",
              "        text-align: right;\n",
              "    }\n",
              "</style>\n",
              "<table border=\"1\" class=\"dataframe\">\n",
              "  <thead>\n",
              "    <tr style=\"text-align: right;\">\n",
              "      <th></th>\n",
              "      <th>word</th>\n",
              "      <th>occurrency</th>\n",
              "    </tr>\n",
              "  </thead>\n",
              "  <tbody>\n",
              "    <tr>\n",
              "      <th>1711</th>\n",
              "      <td>via</td>\n",
              "      <td>2125</td>\n",
              "    </tr>\n",
              "    <tr>\n",
              "      <th>80</th>\n",
              "      <td>municipio</td>\n",
              "      <td>1668</td>\n",
              "    </tr>\n",
              "    <tr>\n",
              "      <th>49</th>\n",
              "      <td>aumento</td>\n",
              "      <td>1600</td>\n",
              "    </tr>\n",
              "    <tr>\n",
              "      <th>30</th>\n",
              "      <td>poblacion</td>\n",
              "      <td>1180</td>\n",
              "    </tr>\n",
              "    <tr>\n",
              "      <th>518</th>\n",
              "      <td>mantenimiento</td>\n",
              "      <td>1177</td>\n",
              "    </tr>\n",
              "    <tr>\n",
              "      <th>125</th>\n",
              "      <td>dificultad</td>\n",
              "      <td>1140</td>\n",
              "    </tr>\n",
              "    <tr>\n",
              "      <th>234</th>\n",
              "      <td>vereda</td>\n",
              "      <td>1068</td>\n",
              "    </tr>\n",
              "    <tr>\n",
              "      <th>74</th>\n",
              "      <td>costo</td>\n",
              "      <td>988</td>\n",
              "    </tr>\n",
              "    <tr>\n",
              "      <th>1046</th>\n",
              "      <td>tiempo</td>\n",
              "      <td>946</td>\n",
              "    </tr>\n",
              "    <tr>\n",
              "      <th>25</th>\n",
              "      <td>baja</td>\n",
              "      <td>911</td>\n",
              "    </tr>\n",
              "    <tr>\n",
              "      <th>204</th>\n",
              "      <td>deterioro</td>\n",
              "      <td>820</td>\n",
              "    </tr>\n",
              "    <tr>\n",
              "      <th>368</th>\n",
              "      <td>transport</td>\n",
              "      <td>786</td>\n",
              "    </tr>\n",
              "    <tr>\n",
              "      <th>112</th>\n",
              "      <td>sector</td>\n",
              "      <td>765</td>\n",
              "    </tr>\n",
              "    <tr>\n",
              "      <th>179</th>\n",
              "      <td>rural</td>\n",
              "      <td>733</td>\n",
              "    </tr>\n",
              "    <tr>\n",
              "      <th>56</th>\n",
              "      <td>falta</td>\n",
              "      <td>731</td>\n",
              "    </tr>\n",
              "    <tr>\n",
              "      <th>2007</th>\n",
              "      <td>viaj</td>\n",
              "      <td>702</td>\n",
              "    </tr>\n",
              "    <tr>\n",
              "      <th>83</th>\n",
              "      <td>producto</td>\n",
              "      <td>702</td>\n",
              "    </tr>\n",
              "    <tr>\n",
              "      <th>59</th>\n",
              "      <td>deficient</td>\n",
              "      <td>663</td>\n",
              "    </tr>\n",
              "    <tr>\n",
              "      <th>2908</th>\n",
              "      <td>intercomunicacion</td>\n",
              "      <td>651</td>\n",
              "    </tr>\n",
              "    <tr>\n",
              "      <th>670</th>\n",
              "      <td>terrestr</td>\n",
              "      <td>627</td>\n",
              "    </tr>\n",
              "  </tbody>\n",
              "</table>\n",
              "</div>\n",
              "      <button class=\"colab-df-convert\" onclick=\"convertToInteractive('df-6477788d-23b3-41e1-9c5f-45af53575c17')\"\n",
              "              title=\"Convert this dataframe to an interactive table.\"\n",
              "              style=\"display:none;\">\n",
              "        \n",
              "  <svg xmlns=\"http://www.w3.org/2000/svg\" height=\"24px\"viewBox=\"0 0 24 24\"\n",
              "       width=\"24px\">\n",
              "    <path d=\"M0 0h24v24H0V0z\" fill=\"none\"/>\n",
              "    <path d=\"M18.56 5.44l.94 2.06.94-2.06 2.06-.94-2.06-.94-.94-2.06-.94 2.06-2.06.94zm-11 1L8.5 8.5l.94-2.06 2.06-.94-2.06-.94L8.5 2.5l-.94 2.06-2.06.94zm10 10l.94 2.06.94-2.06 2.06-.94-2.06-.94-.94-2.06-.94 2.06-2.06.94z\"/><path d=\"M17.41 7.96l-1.37-1.37c-.4-.4-.92-.59-1.43-.59-.52 0-1.04.2-1.43.59L10.3 9.45l-7.72 7.72c-.78.78-.78 2.05 0 2.83L4 21.41c.39.39.9.59 1.41.59.51 0 1.02-.2 1.41-.59l7.78-7.78 2.81-2.81c.8-.78.8-2.07 0-2.86zM5.41 20L4 18.59l7.72-7.72 1.47 1.35L5.41 20z\"/>\n",
              "  </svg>\n",
              "      </button>\n",
              "      \n",
              "  <style>\n",
              "    .colab-df-container {\n",
              "      display:flex;\n",
              "      flex-wrap:wrap;\n",
              "      gap: 12px;\n",
              "    }\n",
              "\n",
              "    .colab-df-convert {\n",
              "      background-color: #E8F0FE;\n",
              "      border: none;\n",
              "      border-radius: 50%;\n",
              "      cursor: pointer;\n",
              "      display: none;\n",
              "      fill: #1967D2;\n",
              "      height: 32px;\n",
              "      padding: 0 0 0 0;\n",
              "      width: 32px;\n",
              "    }\n",
              "\n",
              "    .colab-df-convert:hover {\n",
              "      background-color: #E2EBFA;\n",
              "      box-shadow: 0px 1px 2px rgba(60, 64, 67, 0.3), 0px 1px 3px 1px rgba(60, 64, 67, 0.15);\n",
              "      fill: #174EA6;\n",
              "    }\n",
              "\n",
              "    [theme=dark] .colab-df-convert {\n",
              "      background-color: #3B4455;\n",
              "      fill: #D2E3FC;\n",
              "    }\n",
              "\n",
              "    [theme=dark] .colab-df-convert:hover {\n",
              "      background-color: #434B5C;\n",
              "      box-shadow: 0px 1px 3px 1px rgba(0, 0, 0, 0.15);\n",
              "      filter: drop-shadow(0px 1px 2px rgba(0, 0, 0, 0.3));\n",
              "      fill: #FFFFFF;\n",
              "    }\n",
              "  </style>\n",
              "\n",
              "      <script>\n",
              "        const buttonEl =\n",
              "          document.querySelector('#df-6477788d-23b3-41e1-9c5f-45af53575c17 button.colab-df-convert');\n",
              "        buttonEl.style.display =\n",
              "          google.colab.kernel.accessAllowed ? 'block' : 'none';\n",
              "\n",
              "        async function convertToInteractive(key) {\n",
              "          const element = document.querySelector('#df-6477788d-23b3-41e1-9c5f-45af53575c17');\n",
              "          const dataTable =\n",
              "            await google.colab.kernel.invokeFunction('convertToInteractive',\n",
              "                                                     [key], {});\n",
              "          if (!dataTable) return;\n",
              "\n",
              "          const docLinkHtml = 'Like what you see? Visit the ' +\n",
              "            '<a target=\"_blank\" href=https://colab.research.google.com/notebooks/data_table.ipynb>data table notebook</a>'\n",
              "            + ' to learn more about interactive tables.';\n",
              "          element.innerHTML = '';\n",
              "          dataTable['output_type'] = 'display_data';\n",
              "          await google.colab.output.renderOutput(dataTable, element);\n",
              "          const docLink = document.createElement('div');\n",
              "          docLink.innerHTML = docLinkHtml;\n",
              "          element.appendChild(docLink);\n",
              "        }\n",
              "      </script>\n",
              "    </div>\n",
              "  </div>\n",
              "  "
            ]
          },
          "metadata": {},
          "execution_count": 90
        }
      ]
    },
    {
      "cell_type": "markdown",
      "source": [
        "**Implementar Modelo**"
      ],
      "metadata": {
        "id": "dLu-5Xh5vMo1"
      }
    },
    {
      "cell_type": "code",
      "source": [
        "import random\n",
        "def train_validation_test_split(data, train_percent, test_percent):\n",
        "    \"\"\"\n",
        "    Splits the input data to  train/validation/test according to the percentage provided\n",
        "    \n",
        "    Args:\n",
        "        data: Pre-processed and tokenized corpus, i.e. list of sentences.\n",
        "        train_percent: integer 0-100, defines the portion of input corpus allocated for training\n",
        "        test_percent: integer 0-100, defines the portion of input corpus allocated for validation\n",
        "        \n",
        "        Note: train_percent + test_percent need to be = 100              \n",
        "    \n",
        "    Returns:\n",
        "        train_data: list of sentences, the training part of the corpus        \n",
        "        test_data: list of sentences, the test part of the corpus\n",
        "    \"\"\"\n",
        "    # fixed seed here for reproducibility\n",
        "    random.seed(87)\n",
        "    \n",
        "    # reshuffle all input sentences\n",
        "    random.shuffle(data)\n",
        "\n",
        "    train_size = int(len(data) * train_percent / 100)\n",
        "    train_data = data[0:train_size]\n",
        "    \n",
        "    test_size = int(len(data) * test_percent / 100)\n",
        "    test_data = data[train_size:train_size + test_size]    \n",
        "    \n",
        "    return train_data, test_data"
      ],
      "metadata": {
        "id": "xHqLuK_cvPW1"
      },
      "execution_count": 91,
      "outputs": []
    },
    {
      "cell_type": "code",
      "source": [
        "df_nlp.causa.value_counts()"
      ],
      "metadata": {
        "colab": {
          "base_uri": "https://localhost:8080/"
        },
        "id": "fZrRThbJvgKm",
        "outputId": "dea4a34b-0402-4e34-9720-6c11079bf96c"
      },
      "execution_count": 92,
      "outputs": [
        {
          "output_type": "execute_result",
          "data": {
            "text/plain": [
              "Effect     5976\n",
              "Cause      5307\n",
              "Problem    1751\n",
              "Name: causa, dtype: int64"
            ]
          },
          "metadata": {},
          "execution_count": 92
        }
      ]
    },
    {
      "cell_type": "code",
      "source": [
        "def convertir_variable_obj(lista):\n",
        "  \"\"\"\n",
        "  input: \n",
        "    \"lista\" que cotiene la etiqueta de la variable objetivo en formato string. Ejemplo: [\"Cause\", \"Effect\",\"Problem\"]\n",
        "  Ouput:\n",
        "    \"y\" lista con la etiqueta de la variable objetivo en formato interger. Ejemplo: [1, 0, 0, 1,2]\n",
        "  \"\"\"\n",
        "  y = []\n",
        "  ### START CODE HERE ###\n",
        "  for row in lista:\n",
        "    if row == \"Effect\":\n",
        "     y.append(0)\n",
        "    elif row == \"Cause\":\n",
        "     y.append(1)\n",
        "    else:\n",
        "     y.append(2)\n",
        "   \n",
        "  ### END CODE HERE ###\n",
        "  return y"
      ],
      "metadata": {
        "id": "TpU8d_QdvUfA"
      },
      "execution_count": 93,
      "outputs": []
    },
    {
      "cell_type": "code",
      "source": [
        "etiqueta=df_nlp.causa.values"
      ],
      "metadata": {
        "id": "xal_D_Bkv9yZ"
      },
      "execution_count": 94,
      "outputs": []
    },
    {
      "cell_type": "code",
      "source": [
        "len(etiqueta)"
      ],
      "metadata": {
        "colab": {
          "base_uri": "https://localhost:8080/"
        },
        "id": "1X4pSHKGwtRs",
        "outputId": "bbb526d6-faf6-4403-ed07-6144670aad50"
      },
      "execution_count": 95,
      "outputs": [
        {
          "output_type": "execute_result",
          "data": {
            "text/plain": [
              "13034"
            ]
          },
          "metadata": {},
          "execution_count": 95
        }
      ]
    },
    {
      "cell_type": "code",
      "source": [
        "len(words)"
      ],
      "metadata": {
        "colab": {
          "base_uri": "https://localhost:8080/"
        },
        "id": "6-GP_4ZCwv6k",
        "outputId": "651b3239-0364-45c3-f3e9-d30698074f17"
      },
      "execution_count": 96,
      "outputs": [
        {
          "output_type": "execute_result",
          "data": {
            "text/plain": [
              "13034"
            ]
          },
          "metadata": {},
          "execution_count": 96
        }
      ]
    },
    {
      "cell_type": "code",
      "source": [
        "y = convertir_variable_obj(df_nlp.causa.values)\n",
        "print(y[:10])"
      ],
      "metadata": {
        "colab": {
          "base_uri": "https://localhost:8080/"
        },
        "id": "ae5-U5Fcv8fR",
        "outputId": "92493e3f-986b-45be-ec11-7c163f5c6561"
      },
      "execution_count": 97,
      "outputs": [
        {
          "output_type": "stream",
          "name": "stdout",
          "text": [
            "[2, 0, 0, 0, 0, 1, 1, 2, 0, 0]\n"
          ]
        }
      ]
    },
    {
      "cell_type": "code",
      "source": [
        "words[:12]"
      ],
      "metadata": {
        "colab": {
          "base_uri": "https://localhost:8080/"
        },
        "id": "fCEzusWUx9Ul",
        "outputId": "bd4ee38a-1046-4085-8199-c31b368c8108"
      },
      "execution_count": 98,
      "outputs": [
        {
          "output_type": "execute_result",
          "data": {
            "text/plain": [
              "array(['deficiencia en las reglas, protocolos y procesos de la corresponsabilidad entre la nación y demás entes territoriales del país en la implementación de la política para víctimas y demás actores del conflicto',\n",
              "       'descoordinación institucional en el tema de atención a víctimas',\n",
              "       'ineficiencia e ineficacia en la atención a víctimas del conflicto armado por parte de los entes territoriales',\n",
              "       'inequidad social',\n",
              "       'baja capacidad de las entidades territoriales implementación de la política de víctimas',\n",
              "       'baja coordinación entre la nación y las entidades territoriales en materia de atención a la población víctimas y actores del conflicto armado',\n",
              "       'sistema de corresponsabilidad es un tema reciente para el país',\n",
              "       'escasas iniciativas productivas para incentivar a familias victmas del conflicto para la generacion de ingresos',\n",
              "       'incremento de la poblacion en condiciones de desplazamiento en los centros poblados',\n",
              "       'bajos ingresos para las familias victimas del conflicto',\n",
              "       'baja calida de vida de las victimas del conflicto',\n",
              "       'aumento de las necesidades basicas insatisfechas (nbi)'],\n",
              "      dtype=object)"
            ]
          },
          "metadata": {},
          "execution_count": 98
        }
      ]
    },
    {
      "cell_type": "code",
      "source": [
        "def count_text(result, tweets, ys):\n",
        "    '''\n",
        "    Input:\n",
        "        result: a dictionary that will be used to map each pair to its frequency\n",
        "        tweets: a list of tweets\n",
        "        ys: a list corresponding to the sentiment of each tweet (either 0 or 1)\n",
        "    Output:\n",
        "        result: a dictionary mapping each pair to its frequency\n",
        "    '''\n",
        "    ### START CODE HERE ###\n",
        "    for y, tweet in zip(ys, tweets):\n",
        "        for word in process_text(tweet):\n",
        "            # define the key, which is the word and label tuple\n",
        "            pair = (word,y)\n",
        "            \n",
        "            # if the key exists in the dictionary, increment the count\n",
        "            if pair in result:\n",
        "                result[pair] += 1\n",
        "\n",
        "            # else, if the key is new, add it to the dictionary and set the count to 1\n",
        "            else:\n",
        "                result[pair] = 1\n",
        "    ### END CODE HERE ###\n",
        "\n",
        "    return result"
      ],
      "metadata": {
        "id": "i8DKnJ_60XIV"
      },
      "execution_count": 107,
      "outputs": []
    },
    {
      "cell_type": "code",
      "source": [
        "test_word=words[0]"
      ],
      "metadata": {
        "id": "CmWC9J2M05hf"
      },
      "execution_count": 109,
      "outputs": []
    },
    {
      "cell_type": "code",
      "source": [
        "test_word"
      ],
      "metadata": {
        "colab": {
          "base_uri": "https://localhost:8080/",
          "height": 70
        },
        "id": "IILqj3tm1Pwp",
        "outputId": "dd8d24b6-ff22-433d-c99c-14a89b141682"
      },
      "execution_count": 110,
      "outputs": [
        {
          "output_type": "execute_result",
          "data": {
            "text/plain": [
              "'deficiencia en las reglas, protocolos y procesos de la corresponsabilidad entre la nación y demás entes territoriales del país en la implementación de la política para víctimas y demás actores del conflicto'"
            ],
            "application/vnd.google.colaboratory.intrinsic+json": {
              "type": "string"
            }
          },
          "metadata": {},
          "execution_count": 110
        }
      ]
    },
    {
      "cell_type": "code",
      "source": [
        "print(process_text(test_word))"
      ],
      "metadata": {
        "colab": {
          "base_uri": "https://localhost:8080/"
        },
        "id": "nJBPslJw1TnD",
        "outputId": "ed6e70d3-a685-472b-845c-a15b6f0101d0"
      },
      "execution_count": 111,
      "outputs": [
        {
          "output_type": "stream",
          "name": "stdout",
          "text": [
            "['deficiencia', 'regla', 'protocolo', 'proceso', 'corresponsabilidad', 'nacion', 'dema', 'ent', 'territorial', 'pai', 'implementacion', 'politica', 'victima', 'dema', 'actor', 'conflicto']\n"
          ]
        }
      ]
    },
    {
      "cell_type": "markdown",
      "source": [
        "**Probando funcion**"
      ],
      "metadata": {
        "id": "AnIXMNRo1hrx"
      }
    },
    {
      "cell_type": "code",
      "source": [
        "result = {}\n",
        "text = words[:3]\n",
        "ys =y[:3]\n",
        "print(count_text(result, text, ys))"
      ],
      "metadata": {
        "colab": {
          "base_uri": "https://localhost:8080/"
        },
        "id": "DRYvXMPm1atd",
        "outputId": "6e6f2211-ffdb-41b9-8877-120431dc9404"
      },
      "execution_count": 114,
      "outputs": [
        {
          "output_type": "stream",
          "name": "stdout",
          "text": [
            "{('deficiencia', 2): 1, ('regla', 2): 1, ('protocolo', 2): 1, ('proceso', 2): 1, ('corresponsabilidad', 2): 1, ('nacion', 2): 1, ('dema', 2): 2, ('ent', 2): 1, ('territorial', 2): 1, ('pai', 2): 1, ('implementacion', 2): 1, ('politica', 2): 1, ('victima', 2): 1, ('actor', 2): 1, ('conflicto', 2): 1, ('descoordinacion', 0): 1, ('institucion', 0): 1, ('tema', 0): 1, ('atencion', 0): 2, ('victima', 0): 2, ('ineficiencia', 0): 1, ('ineficacia', 0): 1, ('conflicto', 0): 1, ('armado', 0): 1, ('part', 0): 1, ('ent', 0): 1, ('territorial', 0): 1}\n"
          ]
        }
      ]
    },
    {
      "cell_type": "code",
      "source": [
        "words[:3]"
      ],
      "metadata": {
        "colab": {
          "base_uri": "https://localhost:8080/"
        },
        "id": "NeARl8t_2TMJ",
        "outputId": "598182fa-b3c3-427f-cdbd-c84a7c9e2bf6"
      },
      "execution_count": 115,
      "outputs": [
        {
          "output_type": "execute_result",
          "data": {
            "text/plain": [
              "array(['deficiencia en las reglas, protocolos y procesos de la corresponsabilidad entre la nación y demás entes territoriales del país en la implementación de la política para víctimas y demás actores del conflicto',\n",
              "       'descoordinación institucional en el tema de atención a víctimas',\n",
              "       'ineficiencia e ineficacia en la atención a víctimas del conflicto armado por parte de los entes territoriales'],\n",
              "      dtype=object)"
            ]
          },
          "metadata": {},
          "execution_count": 115
        }
      ]
    },
    {
      "cell_type": "code",
      "source": [
        "y[:3]"
      ],
      "metadata": {
        "colab": {
          "base_uri": "https://localhost:8080/"
        },
        "id": "CyqvJdzu2ZvO",
        "outputId": "c45d7ad2-5bc9-458c-9b0e-05215ffcd96a"
      },
      "execution_count": 116,
      "outputs": [
        {
          "output_type": "execute_result",
          "data": {
            "text/plain": [
              "[2, 0, 0]"
            ]
          },
          "metadata": {},
          "execution_count": 116
        }
      ]
    },
    {
      "cell_type": "code",
      "source": [
        "def lookup(freqs, word, label):\n",
        "    '''\n",
        "    Input:\n",
        "        freqs: a dictionary with the frequency of each pair (or tuple)\n",
        "        word: the word to look up\n",
        "        label: the label corresponding to the word\n",
        "    Output:\n",
        "        n: the number of times the word with its corresponding label appears.\n",
        "    '''\n",
        "    n = 0  # freqs.get((word, label), 0)\n",
        "\n",
        "    pair = (word, label)\n",
        "    if (pair in freqs):\n",
        "        n = freqs[pair]\n",
        "\n",
        "    return n"
      ],
      "metadata": {
        "id": "wM_oxBsM3Exu"
      },
      "execution_count": 117,
      "outputs": []
    },
    {
      "cell_type": "markdown",
      "source": [
        "**Repartir datos**"
      ],
      "metadata": {
        "id": "p-_xGuSQ044W"
      }
    },
    {
      "cell_type": "code",
      "source": [
        "train_x, test_x = train_validation_test_split(words, 80, 20)\n",
        "train_y, test_y = train_validation_test_split(y, 80, 20)"
      ],
      "metadata": {
        "id": "TrySsu_T3Pq2"
      },
      "execution_count": 118,
      "outputs": []
    },
    {
      "cell_type": "code",
      "source": [
        "print(\"train_x = {}, test_x = {}\".format(len(train_x),len(test_x)))\n",
        "print(\"train_y = {}, test_y = {}\".format(len(train_y),len(test_y)))"
      ],
      "metadata": {
        "colab": {
          "base_uri": "https://localhost:8080/"
        },
        "id": "YOmrGbVd3UXy",
        "outputId": "9140de16-ed2e-4c34-ad69-25e69f7941fb"
      },
      "execution_count": 119,
      "outputs": [
        {
          "output_type": "stream",
          "name": "stdout",
          "text": [
            "train_x = 10427, test_x = 2606\n",
            "train_y = 10427, test_y = 2606\n"
          ]
        }
      ]
    },
    {
      "cell_type": "markdown",
      "source": [
        "**Modelo**"
      ],
      "metadata": {
        "id": "JbVUBoLd3iec"
      }
    },
    {
      "cell_type": "code",
      "source": [
        "def train_naive_bayes(freqs, train_x, train_y):\n",
        "    '''\n",
        "    Input:\n",
        "        freqs: dictionary from (word, label) to how often the word appears\n",
        "        train_x: a list of tweets\n",
        "        train_y: a list of labels correponding to the tweets (0,1)\n",
        "    Output:\n",
        "        logprior: the log prior. (equation 3 above)\n",
        "        loglikelihood: the log likelihood of you Naive bayes equation. (equation 6 above)\n",
        "    '''\n",
        "    loglikelihood = {}\n",
        "    logprior = 0\n",
        "\n",
        "    ### START CODE HERE ###\n",
        "\n",
        "    # calculate V, the number of unique words in the vocabulary\n",
        "    vocab = set(key[0] for key in freqs.keys())\n",
        "    V = len(vocab)     \n",
        "\n",
        "    # calculate N_pos, N_neg, V_pos, V_neg\n",
        "    N_pos = N_neg = 0\n",
        "    for pair in freqs.keys():\n",
        "        # if the label is positive (greater than zero)\n",
        "        if pair[1] > 0:\n",
        "\n",
        "            # Increment the number of positive words by the count for this (word, label) pair\n",
        "            N_pos += freqs[pair]\n",
        "\n",
        "        # else, the label is negative\n",
        "        else:\n",
        "\n",
        "            # increment the number of negative words by the count for this (word,label) pair\n",
        "            N_neg += freqs[pair]\n",
        "    \n",
        "    # Calculate D, the number of documents\n",
        "    D = len(train_x)\n",
        "\n",
        "    # Calculate D_pos, the number of positive documents\n",
        "    D_pos = len(list(filter(lambda x: x>0, train_y)))\n",
        "\n",
        "    # Calculate D_neg, the number of negative documents\n",
        "    D_neg = len(list(filter(lambda x: x<=0, train_y)))\n",
        "\n",
        "    # Calculate logprior\n",
        "    logprior = np.log(D_pos)-np.log(D_neg)\n",
        "    \n",
        "    # For each word in the vocabulary...\n",
        "    for word in vocab:\n",
        "        # get the positive and negative frequency of the word\n",
        "        freq_pos = lookup(freqs, word, 1)\n",
        "        freq_neg = lookup(freqs, word, 0)\n",
        "\n",
        "        # calculate the probability that each word is positive, and negative\n",
        "        p_w_pos = (freq_pos+1)/(N_pos+V)\n",
        "        p_w_neg = (freq_neg+1)/(N_neg+V)\n",
        "        # calculate the log likelihood of the word\n",
        "        loglikelihood[word] = np.log(p_w_pos)-np.log(p_w_neg)\n",
        "\n",
        "    ### END CODE HERE ###\n",
        "\n",
        "    return logprior, loglikelihood"
      ],
      "metadata": {
        "id": "R0OUGGfS3dGx"
      },
      "execution_count": 120,
      "outputs": []
    },
    {
      "cell_type": "markdown",
      "source": [
        "**Cargando Datos**"
      ],
      "metadata": {
        "id": "qD7fdlOE3xOO"
      }
    },
    {
      "cell_type": "code",
      "source": [
        "freqs = count_text({}, train_x, train_y)"
      ],
      "metadata": {
        "id": "4rfv7asQ3wf8"
      },
      "execution_count": 121,
      "outputs": []
    },
    {
      "cell_type": "code",
      "source": [
        "logprior, loglikelihood = train_naive_bayes(freqs, train_x, train_y)\n",
        "print(\"logprior = {}, loglikelihood = {}\".format(logprior, len(loglikelihood)))"
      ],
      "metadata": {
        "colab": {
          "base_uri": "https://localhost:8080/"
        },
        "id": "o60NOE8_3pur",
        "outputId": "15c6fb48-c572-407d-d503-2a6dee6ee44b"
      },
      "execution_count": 122,
      "outputs": [
        {
          "output_type": "stream",
          "name": "stdout",
          "text": [
            "logprior = 0.16552506929240707, loglikelihood = 4446\n"
          ]
        }
      ]
    }
  ]
}